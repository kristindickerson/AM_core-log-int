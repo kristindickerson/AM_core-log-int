{
 "cells": [
  {
   "cell_type": "markdown",
   "metadata": {},
   "source": [
    "# Test some unsupervised methods"
   ]
  },
  {
   "cell_type": "code",
   "execution_count": null,
   "metadata": {},
   "outputs": [],
   "source": [
    "import numpy as np\n",
    "import pandas as pd\n",
    "import skfuzzy as fuzz\n",
    "import matplotlib.pyplot as plt\n",
    "from sklearn.metrics import silhouette_score\n",
    "from sklearn.preprocessing import StandardScaler\n",
    "from sklearn.impute import SimpleImputer"
   ]
  },
  {
   "cell_type": "markdown",
   "metadata": {},
   "source": [
    "### Start with fuzzy c means"
   ]
  },
  {
   "cell_type": "code",
   "execution_count": null,
   "metadata": {},
   "outputs": [],
   "source": [
    "\n",
    "# Load your dataset with depth intervals (replace with your data)\n",
    "data = pd.DataFrame({\n",
    "    'log1': [/* your data */],\n",
    "    'log2': [/* your data */],\n",
    "    'log3': [/* your data */],\n",
    "    'log4': [/* your data */]\n",
    "})\n",
    "\n",
    "# Scale the data after imputing just for the clustering step\n",
    "scaler = StandardScaler()\n",
    "imputer = SimpleImputer(strategy='mean')  # Temporarily impute for clustering only\n",
    "data_scaled = scaler.fit_transform(imputer.fit_transform(data))\n",
    "\n",
    "# Function for Fuzzy C-Means and calculating silhouette score\n",
    "def fcm_and_silhouette(data, n_clusters):\n",
    "    cntr, u, _, _, _, _, _ = fuzz.cluster.cmeans(data.T, n_clusters, 2, error=0.005, maxiter=1000, init=None)\n",
    "    cluster_membership = np.argmax(u, axis=0)\n",
    "    silhouette_avg = silhouette_score(data, cluster_membership)\n",
    "    return silhouette_avg, cntr, u, cluster_membership\n",
    "\n",
    "# Optimize the number of clusters\n",
    "silhouette_scores = []\n",
    "distortions = []\n",
    "cluster_range = range(2, 10)\n",
    "\n",
    "for n_clusters in cluster_range:\n",
    "    silhouette_avg, cntr, u, cluster_membership = fcm_and_silhouette(data_scaled, n_clusters)\n",
    "    silhouette_scores.append(silhouette_avg)\n",
    "    distances = np.linalg.norm(data_scaled[:, np.newaxis] - cntr, axis=2) ** 2\n",
    "    distortion = np.sum(np.min(distances, axis=1))\n",
    "    distortions.append(distortion)\n",
    "\n",
    "# Plot results\n",
    "plt.figure(figsize=(12, 5))\n",
    "plt.subplot(1, 2, 1)\n",
    "plt.plot(cluster_range, silhouette_scores, 'bo-')\n",
    "plt.xlabel('Number of Clusters')\n",
    "plt.ylabel('Silhouette Score')\n",
    "plt.title('Silhouette Method')\n",
    "\n",
    "plt.subplot(1, 2, 2)\n",
    "plt.plot(cluster_range, distortions, 'bo-')\n",
    "plt.xlabel('Number of Clusters')\n",
    "plt.ylabel('Distortion')\n",
    "plt.title('Elbow Method')\n",
    "plt.tight_layout()\n",
    "plt.show()\n",
    "\n",
    "# Select the optimal number of clusters\n",
    "optimal_clusters = cluster_range[np.argmax(silhouette_scores)]\n",
    "print(f'Optimal number of clusters: {optimal_clusters}')\n",
    "\n",
    "# Final FCM model with the optimal number of clusters\n",
    "_, final_cntr, final_u, final_membership = fcm_and_silhouette(data_scaled, optimal_clusters)\n",
    "\n",
    "# Restore original NaNs in the final DataFrame\n",
    "data['Cluster'] = final_membership  # Add clusters to original data\n",
    "print(data.head())"
   ]
  }
 ],
 "metadata": {
  "language_info": {
   "name": "python"
  }
 },
 "nbformat": 4,
 "nbformat_minor": 2
}
