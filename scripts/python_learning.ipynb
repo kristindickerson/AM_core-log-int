{
 "cells": [
  {
   "cell_type": "markdown",
   "metadata": {},
   "source": [
    "# Learning strings\n",
    "### Immutable "
   ]
  },
  {
   "cell_type": "code",
   "execution_count": 1,
   "metadata": {},
   "outputs": [
    {
     "name": "stdout",
     "output_type": "stream",
     "text": [
      "Hello World!\n"
     ]
    }
   ],
   "source": [
    "print('Hello World!')"
   ]
  },
  {
   "cell_type": "code",
   "execution_count": 2,
   "metadata": {},
   "outputs": [
    {
     "data": {
      "text/plain": [
       "'john doe is 10 years old'"
      ]
     },
     "execution_count": 2,
     "metadata": {},
     "output_type": "execute_result"
    }
   ],
   "source": [
    "first_name = 'john'\n",
    "last_name = 'doe'\n",
    "first_name + last_name\n",
    "full_name = first_name + ' ' + last_name\n",
    "age = 10\n",
    "\n",
    "f'{first_name} {last_name} is {age} years old'\n"
   ]
  },
  {
   "cell_type": "code",
   "execution_count": 3,
   "metadata": {},
   "outputs": [
    {
     "data": {
      "text/plain": [
       "2"
      ]
     },
     "execution_count": 3,
     "metadata": {},
     "output_type": "execute_result"
    }
   ],
   "source": [
    "full_name.title()\n",
    "full_name.capitalize()\n",
    "full_name.count('j')\n",
    "full_name.find('h')"
   ]
  },
  {
   "cell_type": "code",
   "execution_count": 4,
   "metadata": {},
   "outputs": [
    {
     "name": "stdout",
     "output_type": "stream",
     "text": [
      "Help on built-in function count:\n",
      "\n",
      "count(...) method of builtins.str instance\n",
      "    S.count(sub[, start[, end]]) -> int\n",
      "\n",
      "    Return the number of non-overlapping occurrences of substring sub in\n",
      "    string S[start:end].  Optional arguments start and end are\n",
      "    interpreted as in slice notation.\n",
      "\n",
      "john doe contains 8 characters\n"
     ]
    }
   ],
   "source": [
    "help(full_name.count)\n",
    "print(f'{full_name} contains {len(full_name)} characters')"
   ]
  },
  {
   "cell_type": "code",
   "execution_count": 5,
   "metadata": {},
   "outputs": [
    {
     "data": {
      "text/plain": [
       "'copycopycopycopycopycopycopycopycopycopy'"
      ]
     },
     "execution_count": 5,
     "metadata": {},
     "output_type": "execute_result"
    }
   ],
   "source": [
    "'copy'*10"
   ]
  },
  {
   "cell_type": "code",
   "execution_count": 6,
   "metadata": {},
   "outputs": [
    {
     "name": "stdout",
     "output_type": "stream",
     "text": [
      "abcdefg contains 7 characters and the first index is a and the second is b \n",
      " and the third is c\n",
      "abcdefg contains 7 characters and the last index is g\n"
     ]
    }
   ],
   "source": [
    "test_string = 'abcdefg'\n",
    "test_string[0]\n",
    "print(f'{test_string} contains {len(test_string)} characters and the first index is {test_string[0]} and the second is {test_string[1]} \\n and the third is {test_string[2]}')\n",
    "\n",
    "print(f'{test_string} contains {len(test_string)} characters and the last index is {test_string[-1]}')"
   ]
  },
  {
   "cell_type": "code",
   "execution_count": 7,
   "metadata": {},
   "outputs": [
    {
     "name": "stdout",
     "output_type": "stream",
     "text": [
      "abcdefg contains 7 characters and the 2nd through 4th index is bcd\n"
     ]
    }
   ],
   "source": [
    "print(f'{test_string} contains {len(test_string)} characters and the 2nd through 4th index is {test_string[1:4]}')"
   ]
  },
  {
   "cell_type": "markdown",
   "metadata": {},
   "source": [
    "# Learn lists\n",
    "### Mutable "
   ]
  },
  {
   "cell_type": "markdown",
   "metadata": {},
   "source": [
    "### IMPORTANT: \n",
    "Lists are NOT vectors like in Matlab. They are solely ordered obkects of any type and are NOT numerical vectors like in MAatlab. To get things like vectors you'll need Numpy whihc we will get to later"
   ]
  },
  {
   "cell_type": "code",
   "execution_count": 8,
   "metadata": {},
   "outputs": [
    {
     "name": "stdout",
     "output_type": "stream",
     "text": [
      "[1, 3.5, 4, 6, 1.3, 10]\n",
      "[1, 'one', 4, 'five']\n",
      "[[1, 3.5, 4, 6, 1.3, 10], [1, 'one', 4, 'five']]\n",
      "the number of items in [1, 'one', 4, 'five'] is 4\n"
     ]
    }
   ],
   "source": [
    "# List of numbers\n",
    "num_list = [1, 3.5, 4, 6, 1.3, 10]\n",
    "print(num_list)\n",
    "\n",
    "# List of strings and numbers\n",
    "num_str_list = [1, 'one', 4, 'five']\n",
    "print(num_str_list)\n",
    "\n",
    "nested_list = [num_list, num_str_list]\n",
    "print(nested_list)\n",
    "\n",
    "print(f'the number of items in {num_str_list} is {len(num_str_list)}')\n",
    "                "
   ]
  },
  {
   "cell_type": "code",
   "execution_count": 9,
   "metadata": {},
   "outputs": [
    {
     "name": "stdout",
     "output_type": "stream",
     "text": [
      "sample_list = [5, 3.2, 10, 'hello', 3, 'world', 4]\n",
      "--------------------------------------------------\n",
      "the max of the sample list is 10 \n",
      "\n",
      "the sum of the sample list is 25.2 \n",
      "\n",
      "the min of the sample list is 3 \n",
      "\n",
      "--------------------------------------------------\n"
     ]
    }
   ],
   "source": [
    "sample_list = [5 , 3.2, 10, 'hello', 3, 'world', 4]\n",
    "sample_list_num = [5 , 3.2, 10, 3, 4]\n",
    "title = f'sample_list = {sample_list}'\n",
    "print(title)\n",
    "print('-'*len(title))\n",
    "print(f'the max of the sample list is {max(sample_list_num)} \\n')\n",
    "print(f'the sum of the sample list is {sum(sample_list_num)} \\n')\n",
    "print(f'the min of the sample list is {min(sample_list_num)} \\n')\n",
    "print('-'*len(title))"
   ]
  },
  {
   "cell_type": "code",
   "execution_count": 10,
   "metadata": {},
   "outputs": [
    {
     "name": "stdout",
     "output_type": "stream",
     "text": [
      "True\n"
     ]
    },
    {
     "data": {
      "text/plain": [
       "False"
      ]
     },
     "execution_count": 10,
     "metadata": {},
     "output_type": "execute_result"
    }
   ],
   "source": [
    "print(first_name not in title)\n",
    "'s' not in title"
   ]
  },
  {
   "cell_type": "code",
   "execution_count": 11,
   "metadata": {},
   "outputs": [
    {
     "name": "stdout",
     "output_type": "stream",
     "text": [
      "None\n",
      "[5, 3.2, 10, 'hello', 3, 'world', 4, 'apple']\n",
      "old  [5, 3.2, 10, 'hello', 3, 'world', 4, 'apple']\n",
      "new  [5, 3.2, 10, 'hello', 3, 'world', 4, 'apple', 'pear']\n"
     ]
    }
   ],
   "source": [
    "sample_list = [5 , 3.2, 10, 'hello', 3, 'world', 4]\n",
    "sample_list = sample_list.append('apple')\n",
    "print(sample_list)\n",
    "\n",
    "sample_list = [5 , 3.2, 10, 'hello', 3, 'world', 4]\n",
    "sample_list.append('apple')\n",
    "print(sample_list)\n",
    "\n",
    "sample_list_new = sample_list.copy()\n",
    "sample_list_new.append('pear')\n",
    "print('old ', sample_list)\n",
    "print('new ', sample_list_new)"
   ]
  },
  {
   "cell_type": "code",
   "execution_count": 12,
   "metadata": {},
   "outputs": [
    {
     "name": "stdout",
     "output_type": "stream",
     "text": [
      "Help on built-in function sort:\n",
      "\n",
      "sort(*, key=None, reverse=False) method of builtins.list instance\n",
      "    Sort the list in ascending order and return None.\n",
      "\n",
      "    The sort is in-place (i.e. the list itself is modified) and stable (i.e. the\n",
      "    order of two equal elements is maintained).\n",
      "\n",
      "    If a key function is given, apply it once to each list item and sort them,\n",
      "    ascending or descending, according to their function values.\n",
      "\n",
      "    The reverse flag can be set to sort in descending order.\n",
      "\n",
      "[1, 4, 10, 14]\n",
      "[14, 10, 4, 1]\n"
     ]
    }
   ],
   "source": [
    "sample_list = [1,4,10, 14]\n",
    "help(sample_list.sort)\n",
    "print(sample_list)\n",
    "\n",
    "sample_list.sort(reverse = True)\n",
    "print(sample_list)"
   ]
  },
  {
   "cell_type": "markdown",
   "metadata": {},
   "source": [
    "# Learn tuples\n",
    "### Immutable versions of lists\n",
    "You can't append or change a tuple at all, like you can lists \n",
    "\n",
    "Create with parentheses () instead of brackets [] as lists are\n",
    "\n",
    "Pretty much everything else is the same. you can find min, max, sum, etc. And you can index and slice"
   ]
  },
  {
   "cell_type": "code",
   "execution_count": 13,
   "metadata": {},
   "outputs": [
    {
     "name": "stdout",
     "output_type": "stream",
     "text": [
      "1\n",
      "3\n",
      "17\n"
     ]
    }
   ],
   "source": [
    "a = (1, 2, 5, 3, 6)\n",
    "\n",
    "print(min(a))\n",
    "print(a[3])\n",
    "print(sum(a))"
   ]
  },
  {
   "cell_type": "markdown",
   "metadata": {},
   "source": [
    "# Learn sets\n",
    "### Mutable\n",
    "\n",
    "### Formal mathematical definition of sets. Namely, unordered collections of elements without repitiions of elements. \n",
    "\n",
    "### Use curly brackets {} \n",
    "\n",
    "### IMPORTANT:\n",
    "(a) sets are not ordered\n",
    "\n",
    "(b) set elements are unique. Duplciate elements are not allowed\n",
    "\n",
    "(c) a set itself may be modified, bu tht elements contained in the set must be an ummutable type."
   ]
  },
  {
   "cell_type": "code",
   "execution_count": 14,
   "metadata": {},
   "outputs": [
    {
     "name": "stdout",
     "output_type": "stream",
     "text": [
      "{'b', 'c', 4, 'a'}\n",
      "{1, 1.3, 3.5, 4, 6, 10}\n"
     ]
    }
   ],
   "source": [
    "create_new_set = {'a', 'b', 'c', 4,4}\n",
    "print(create_new_set)\n",
    "\n",
    "create_new_set\n",
    "\n",
    "make_set_from_existing_list = set (num_list)\n",
    "print(make_set_from_existing_list)"
   ]
  },
  {
   "cell_type": "code",
   "execution_count": 15,
   "metadata": {},
   "outputs": [
    {
     "name": "stdout",
     "output_type": "stream",
     "text": [
      "list is [5, 4, 'a', 3, 10, 'b']\n",
      "set is {3, 4, 5, 10, 'a', 'b'}\n",
      "unique list is [3, 4, 5, 10, 'a', 'b']\n"
     ]
    }
   ],
   "source": [
    "# Get unique element\n",
    "new_list = [5, 4, 'a', 3, 10, 'b']\n",
    "print(f'list is {new_list}')\n",
    "print(f'set is {set(new_list)}')\n",
    "print(f'unique list is {list(set(new_list))}')"
   ]
  },
  {
   "cell_type": "markdown",
   "metadata": {},
   "source": [
    "# Learn dictionaries\n",
    "\n",
    "### Important:\n",
    "Dictionaries are key value pairs. You are collecting a bunch of keys and values\n",
    "\n",
    "Think about this like you have a label (key) associated with a value\n",
    "\n",
    "### RULES:\n",
    "Keys must be immutable (tuples, strings, etc)\n",
    "\n",
    "Values can be any type "
   ]
  },
  {
   "cell_type": "code",
   "execution_count": 16,
   "metadata": {},
   "outputs": [
    {
     "name": "stdout",
     "output_type": "stream",
     "text": [
      "sample_dictionary = {'first_name': 'John', 'last_name': 'Doe', 'age': 34}\n",
      "sample_dictionary key-values pairs (aka items) =  dict_items([('first_name', 'John'), ('last_name', 'Doe'), ('age', 34)])\n",
      "sample_dictionary keys =  dict_keys(['first_name', 'last_name', 'age'])\n",
      "sample_dictionary values =  dict_values(['John', 'Doe', 34])\n"
     ]
    }
   ],
   "source": [
    "sample_dictionary = {'first_name': 'John', \n",
    "                     'last_name': 'Doe', \n",
    "                     'age': 34\n",
    "                     }\n",
    "\n",
    "print(f'sample_dictionary = {sample_dictionary}')\n",
    "\n",
    "# return keys and values \n",
    "print(f'sample_dictionary key-values pairs (aka items) =  {sample_dictionary.items()}')\n",
    "\n",
    "# return keys only\n",
    "print(f'sample_dictionary keys =  {sample_dictionary.keys()}')\n",
    "\n",
    "# return values only\n",
    "print(f'sample_dictionary values =  {sample_dictionary.values()}')\n",
    "\n",
    "# You can see from the output that the keys-value pairs are each tuples (i.e., ('first name', 'John'))\n",
    "# and the dictionary is a list of all the key-value tuples \n",
    "# (i.e., [('first name', 'John'), ('last_name', 'Doe'), ('age', 34)])"
   ]
  },
  {
   "cell_type": "code",
   "execution_count": 17,
   "metadata": {},
   "outputs": [
    {
     "name": "stdout",
     "output_type": "stream",
     "text": [
      "John\n",
      "This is the dictionary value of the first name key: John\n"
     ]
    }
   ],
   "source": [
    "# Each key points toward a value and can be accessed wiht [] \n",
    "# sample_dictionary[key] = value\n",
    "\n",
    "print(sample_dictionary['first_name'])\n",
    "\n",
    "# Must have different quote styles if youre going to put a string inside a string:\n",
    "print(f'This is the dictionary value of the first name key: {sample_dictionary['first_name']}')"
   ]
  },
  {
   "cell_type": "code",
   "execution_count": 18,
   "metadata": {},
   "outputs": [
    {
     "name": "stdout",
     "output_type": "stream",
     "text": [
      "{'first_name': 'Jane', 'last_name': 'Doe', 'age': 34}\n"
     ]
    }
   ],
   "source": [
    "# Changing and nadding new items\n",
    "sample_dictionary['first_name'] = 'Jane'\n",
    "print(sample_dictionary)\n",
    "\n"
   ]
  },
  {
   "cell_type": "code",
   "execution_count": 19,
   "metadata": {},
   "outputs": [
    {
     "name": "stdout",
     "output_type": "stream",
     "text": [
      "{'first_name': 'Jane', 'last_name': 'Doe', 'age': 34, 'sex': 'Female'}\n"
     ]
    }
   ],
   "source": [
    "sample_dictionary['sex'] = 'Female'\n",
    "print(sample_dictionary)"
   ]
  },
  {
   "cell_type": "markdown",
   "metadata": {},
   "source": [
    "Make your own large database"
   ]
  },
  {
   "cell_type": "code",
   "execution_count": 20,
   "metadata": {},
   "outputs": [
    {
     "name": "stdout",
     "output_type": "stream",
     "text": [
      "{'employees': {'John': {'Age': 34, 'Position': 'sales', 'Salary': 60000}, 'Jane': {'Age': 25, 'Position': 'management', 'Salary': 80000}}, 'vendors': {'Houston Supply': {'Product': 'computers', 'Monthly Fee': 20000}, 'ACME': {'Product': 'keyboards', 'Monthly fee': 3000}}}\n",
      "{'John': {'Age': 34, 'Position': 'sales', 'Salary': 60000}, 'Jane': {'Age': 25, 'Position': 'management', 'Salary': 80000}}\n",
      "{'Age': 25, 'Position': 'management', 'Salary': 80000}\n"
     ]
    }
   ],
   "source": [
    "employees = {'John': {'Age': 34, 'Position': 'sales', 'Salary': 60_000}, \n",
    "             'Jane': {'Age': 25, 'Position': 'management', 'Salary': 80_000}}\n",
    "\n",
    "vendors = {'Houston Supply': {'Product': 'computers', 'Monthly Fee': 20_000}, \n",
    "            'ACME':{'Product': 'keyboards', 'Monthly fee': 3_000}}\n",
    "\n",
    "database = {'employees': employees, 'vendors': vendors}\n",
    "\n",
    "print(database)\n",
    "print(database['employees'])\n",
    "print(database['employees']['Jane'])"
   ]
  },
  {
   "cell_type": "markdown",
   "metadata": {},
   "source": [
    "Now use a for loop"
   ]
  },
  {
   "cell_type": "code",
   "execution_count": 21,
   "metadata": {},
   "outputs": [
    {
     "name": "stdout",
     "output_type": "stream",
     "text": [
      "Employees\n",
      "-----------\n",
      "       John\n",
      "       ---------\n",
      "        Age: 34\n",
      "        Position: sales\n",
      "        Salary: 60000\n",
      "\n",
      "       Jane\n",
      "       ---------\n",
      "        Age: 25\n",
      "        Position: management\n",
      "        Salary: 80000\n",
      "\n",
      "Vendors\n",
      "-----------\n",
      "       Houston supply\n",
      "       ---------\n",
      "        Product: computers\n",
      "        Monthly Fee: 20000\n",
      "\n",
      "       Acme\n",
      "       ---------\n",
      "        Product: keyboards\n",
      "        Monthly fee: 3000\n",
      "\n"
     ]
    }
   ],
   "source": [
    "\n",
    "for field in database:\n",
    "    print(f'{field.capitalize()}')\n",
    "    print('-----------')\n",
    "    for field_two in database[field]:\n",
    "        print(f'       {field_two.capitalize()}')\n",
    "        print('       ---------')\n",
    "        for prop in database[field][field_two]:\n",
    "            print(f'        {prop}: {database[field][field_two][prop]}')\n",
    "        print()\n",
    "    print\n"
   ]
  },
  {
   "cell_type": "markdown",
   "metadata": {},
   "source": [
    "# Learning conditional statements, looping, and comprehension"
   ]
  },
  {
   "cell_type": "markdown",
   "metadata": {},
   "source": [
    "## conditional statements"
   ]
  },
  {
   "cell_type": "code",
   "execution_count": 22,
   "metadata": {},
   "outputs": [
    {
     "name": "stdout",
     "output_type": "stream",
     "text": [
      "x = 10\n",
      "y = 4\n",
      "x is greater than y\n",
      "\n",
      "x = 10\n",
      "y = 10\n",
      "x equal to y\n"
     ]
    }
   ],
   "source": [
    "x = 10\n",
    "y = 4\n",
    "print(f'x = {x}')\n",
    "print(f'y = {y}')\n",
    "\n",
    "if x > y: \n",
    "    print('x is greater than y')\n",
    "else:\n",
    "    print('x is less than y')\n",
    "\n",
    "x = 10\n",
    "y = 10\n",
    "print(f'\\n{x = }')\n",
    "print(f'{y = }')    \n",
    "if x > y: \n",
    "    print('x is greater than y')\n",
    "elif x == y: \n",
    "    print('x equal to y')\n",
    "else:\n",
    "    print('x is less than y')"
   ]
  },
  {
   "cell_type": "markdown",
   "metadata": {},
   "source": [
    "## looping\n"
   ]
  },
  {
   "cell_type": "code",
   "execution_count": 23,
   "metadata": {},
   "outputs": [
    {
     "name": "stdout",
     "output_type": "stream",
     "text": [
      "i = 1\n",
      "i = 2\n",
      "i = 3\n",
      "i = 4\n",
      "i = 5\n",
      "i = 6\n",
      "i = 7\n",
      "i = 8\n",
      "i = 9\n",
      "i = 10\n",
      "i = 11\n",
      "i = 12\n",
      "i = 13\n",
      "i = 14\n",
      "i = 15\n"
     ]
    }
   ],
   "source": [
    "i = 1\n",
    "max_iterations = 15\n",
    "while i <= max_iterations:\n",
    "    print(f'{i = }')\n",
    "    i += 1 # the += operator increments the variable i by 1 (adds 1)"
   ]
  },
  {
   "cell_type": "code",
   "execution_count": 24,
   "metadata": {},
   "outputs": [
    {
     "name": "stdout",
     "output_type": "stream",
     "text": [
      "Randy\n",
      "Andrew\n",
      "Ben\n",
      "Chrissy\n",
      "Rusty\n",
      "index: 0, name: Randy\n",
      "index: 1, name: Andrew\n",
      "index: 2, name: Ben\n",
      "index: 3, name: Chrissy\n",
      "index: 4, name: Rusty\n",
      "i: 0, value: Randy\n",
      "i: 1, value: Andrew\n",
      "i: 2, value: Ben\n",
      "i: 3, value: Chrissy\n",
      "i: 4, value: Rusty\n"
     ]
    }
   ],
   "source": [
    "# list the names\n",
    "names = ['Randy', 'Andrew', 'Ben', 'Chrissy', 'Rusty']\n",
    "for name in names:\n",
    "    print(name)\n",
    "\n",
    "# get the index using the enumerate function\n",
    "# the first var (i) is the idnex, the second var (name) is the value\n",
    "for i, name in enumerate(names):\n",
    "    print(f'index: {i}, name: {name}')\n",
    "\n",
    "for whatever, value in enumerate(names):\n",
    "    print(f'i: {whatever}, value: {value}')"
   ]
  },
  {
   "cell_type": "code",
   "execution_count": 25,
   "metadata": {},
   "outputs": [
    {
     "name": "stdout",
     "output_type": "stream",
     "text": [
      "['Randy', 34]\n",
      "['Andrew', 35]\n",
      "['Ben', 35]\n",
      "['Chrissy', 32]\n",
      "['Rusty', 39]\n"
     ]
    }
   ],
   "source": [
    "# pariing together data from two distinct lists using the commonly used zip function\n",
    "\n",
    "ages = [34, 35, 35, 32, 39]\n",
    "\n",
    "for name, age in zip(names, ages):\n",
    "    #print(f'Name: {name}, Age: {age}')\n",
    "    pairs = [name, age]\n",
    "    print(pairs)\n",
    "\n"
   ]
  },
  {
   "cell_type": "markdown",
   "metadata": {},
   "source": [
    "# Comprehension"
   ]
  },
  {
   "cell_type": "code",
   "execution_count": 26,
   "metadata": {},
   "outputs": [
    {
     "name": "stdout",
     "output_type": "stream",
     "text": [
      "even_list = [2, 4, 6, 8, 10] \n",
      "\n",
      "odd_list = [1, 3, 5, 7, 9] \n",
      "\n",
      "even_or_odd = {1: 'odd', 2: 'even', 3: 'odd', 4: 'even', 5: 'odd', 6: 'even', 7: 'odd', 8: 'even', 9: 'odd', 10: 'even'} \n",
      "\n"
     ]
    }
   ],
   "source": [
    "# Normal list creation\n",
    "normal_list = [1, 2, 3, 4, 5, 6, 7, 8, 9, 10]\n",
    "\n",
    "# List comprehension: even values in regular list\n",
    "even_list = [x for x in normal_list if x % 2 == 0]\n",
    "print(f'even_list = {even_list} \\n')\n",
    "\n",
    "# List comprehension: odd values in regular list\n",
    "odd_list = [x for x in normal_list if x % 2 != 0]\n",
    "print(f'odd_list = {odd_list} \\n')\n",
    "\n",
    "# List comprehension: odd values in regular list\n",
    "even_or_odd = {x : 'even' if x % 2 == 0 else 'odd' for x in normal_list}\n",
    "print(f'even_or_odd = {even_or_odd} \\n')\n"
   ]
  },
  {
   "cell_type": "markdown",
   "metadata": {},
   "source": [
    "# Functions\n",
    "\n",
    "### Do NOT write code more than once. Ever. If you ever need a code block more than once, you need to create a function"
   ]
  },
  {
   "cell_type": "code",
   "execution_count": 27,
   "metadata": {},
   "outputs": [
    {
     "name": "stdout",
     "output_type": "stream",
     "text": [
      "list of names:\n",
      "----------\n",
      "Randy\n",
      "Andrew\n",
      "Ben\n",
      "Chrissy\n",
      "Rusty\n",
      "\n",
      "\n",
      "list of schools:\n",
      "----------\n",
      "Rice University\n",
      "University of Houston\n",
      "University of Texas\n",
      "Texas A&M\n",
      "Texas Satate University\n",
      "\n",
      "\n"
     ]
    }
   ],
   "source": [
    "list_of_names = ['Randy', 'Andrew', 'Ben', 'Chrissy', 'Rusty']\n",
    "list_of_schools = ['Rice University', \n",
    "                        'University of Houston', \n",
    "                        'University of Texas', \n",
    "                        'Texas A&M', \n",
    "                        'Texas Satate University']\n",
    "\n",
    "def print_items(items):\n",
    "    for item in items:\n",
    "        print(item)\n",
    "    print('\\n')\n",
    "\n",
    "print('list of names:')\n",
    "print('----------')\n",
    "print_items(list_of_names)\n",
    "\n",
    "print('list of schools:')\n",
    "print('----------')\n",
    "print_items(list_of_schools)"
   ]
  },
  {
   "cell_type": "code",
   "execution_count": 28,
   "metadata": {},
   "outputs": [
    {
     "name": "stdout",
     "output_type": "stream",
     "text": [
      "--- My List ---\n",
      "---------------\n",
      "1. Randy\n",
      "2. Andrew\n",
      "3. Ben\n",
      "4. Chrissy\n",
      "5. Rusty\n",
      "\n",
      "\n",
      "--- List Of Names ---\n",
      "---------------------\n",
      "1. Randy\n",
      "2. Andrew\n",
      "3. Ben\n",
      "4. Chrissy\n",
      "5. Rusty\n",
      "\n",
      "\n",
      "--- List Of Schools ---\n",
      "-----------------------\n",
      "1. Rice University\n",
      "2. University of Houston\n",
      "3. University of Texas\n",
      "4. Texas A&M\n",
      "5. Texas Satate University\n",
      "\n",
      "\n"
     ]
    }
   ],
   "source": [
    "## add some custimization\n",
    "\n",
    "def print_items(items=list_of_names, my_title='my list', show_numbers=True):\n",
    "    title = f'--- {my_title.title()} ---'\n",
    "    line = '-'*len(title)\n",
    "\n",
    "    print(title)\n",
    "    print(line)\n",
    "\n",
    "    if show_numbers:\n",
    "        for i, item in enumerate(items):\n",
    "            print(f'{i+1}. {item}')\n",
    "    else:\n",
    "        for item in items:\n",
    "            print(item)\n",
    "    print('\\n')\n",
    "\n",
    "print_items()\n",
    "\n",
    "print_items(list_of_names, 'list of names')\n",
    "\n",
    "print_items(list_of_schools, 'list of schools', True)"
   ]
  },
  {
   "cell_type": "markdown",
   "metadata": {},
   "source": [
    "# Exceptions (Error catching)"
   ]
  },
  {
   "cell_type": "code",
   "execution_count": 29,
   "metadata": {},
   "outputs": [],
   "source": [
    "def print_items(items, my_title='My list', show_numbers= True):\n",
    "    if not type(items) is list:\n",
    "        raise TypeError('items argument must be of type \"list\"')\n",
    "    if not type(my_title) is str:\n",
    "        raise TypeError('my_title argument must be of type \"str\"')\n",
    "    if not type(show_numbers) is bool:\n",
    "        raise TypeError('show_numbers argumnet must be of type \"bool\"')\n",
    "    \n",
    "    print(f'{my_title.title()}')\n",
    "    print('-'*len(my_title))\n",
    "\n",
    "    if show_numbers:\n",
    "        for i, item in enumerate(items):\n",
    "            print(f'{i+1}. {item}')\n",
    "    else:\n",
    "        for item in items:\n",
    "            print(item)            \n",
    "    \n"
   ]
  },
  {
   "cell_type": "markdown",
   "metadata": {},
   "source": [
    "# Docstrings\n",
    "\n",
    "### For documenting code\n",
    "\n",
    "Need:\n",
    "- a brief description of what the method is and what its used for\n",
    "\n",
    "- any arguments (both required and optional) that are passed including keyword arguments\n",
    "\n",
    "- any values returned\n",
    "\n",
    "- label any arguments that are considered option or have a default value\n",
    "\n",
    "- any side effects that occur when executing the function (such as mutating a list)\n",
    "\n",
    "- any exceptions that are raised"
   ]
  },
  {
   "cell_type": "code",
   "execution_count": 30,
   "metadata": {},
   "outputs": [],
   "source": [
    "def print_items(items, my_title='my list', show_numbers=True):\n",
    "    \"\"\"\n",
    "    \n",
    "    Prints the elements in items to the used. \n",
    "\n",
    "    \n",
    "        Parameters\n",
    "        ---------\n",
    "        items: list\n",
    "            The list of eleemtns to be printed to the user\n",
    "            \n",
    "        my_title : str, optional\n",
    "            The title to appear above the elements in items (default is 'my list')\n",
    "\n",
    "        show_numbers : bool, optional\n",
    "            If true the elements in items will be printed next to their correspinding index (deaults is True)\n",
    "\n",
    "        Raises\n",
    "        ------\n",
    "        TypeError\n",
    "            If itesm is not a Python list type.\n",
    "            If my_title is not a Python str type.\n",
    "            If show_numbers is not a Python bool type.\n",
    "\n",
    "        Returns\n",
    "        -------\n",
    "        None\n",
    "\n",
    "    \"\"\"\n",
    "\n",
    "    if not type(items) is list:\n",
    "        raise TypeError('items argument must be of type \"list\"')\n",
    "    if not type(my_title) is str:\n",
    "        raise TypeError('my_title argument must be of type \"str\"')\n",
    "    if not type(show_numbers) is bool:\n",
    "        raise TypeError('show_numbers argumnet must be of type \"bool\"')\n",
    "    \n",
    "    print(f'{my_title.title()}')\n",
    "    print('-'*len(my_title))\n",
    "\n",
    "    if show_numbers:\n",
    "        for i, item in enumerate(items):\n",
    "            print(f'{i+1}. {item}')\n",
    "    else:\n",
    "        for item in items:\n",
    "            print(item) \n",
    "    \n"
   ]
  },
  {
   "cell_type": "code",
   "execution_count": 31,
   "metadata": {},
   "outputs": [
    {
     "name": "stdout",
     "output_type": "stream",
     "text": [
      "Help on function print_items in module __main__:\n",
      "\n",
      "print_items(items, my_title='my list', show_numbers=True)\n",
      "    Prints the elements in items to the used.\n",
      "\n",
      "\n",
      "        Parameters\n",
      "        ---------\n",
      "        items: list\n",
      "            The list of eleemtns to be printed to the user\n",
      "\n",
      "        my_title : str, optional\n",
      "            The title to appear above the elements in items (default is 'my list')\n",
      "\n",
      "        show_numbers : bool, optional\n",
      "            If true the elements in items will be printed next to their correspinding index (deaults is True)\n",
      "\n",
      "        Raises\n",
      "        ------\n",
      "        TypeError\n",
      "            If itesm is not a Python list type.\n",
      "            If my_title is not a Python str type.\n",
      "            If show_numbers is not a Python bool type.\n",
      "\n",
      "        Returns\n",
      "        -------\n",
      "        None\n",
      "\n"
     ]
    }
   ],
   "source": [
    "help(print_items)"
   ]
  },
  {
   "cell_type": "code",
   "execution_count": null,
   "metadata": {},
   "outputs": [],
   "source": []
  },
  {
   "cell_type": "code",
   "execution_count": 32,
   "metadata": {},
   "outputs": [
    {
     "name": "stdout",
     "output_type": "stream",
     "text": [
      "None\n"
     ]
    }
   ],
   "source": [
    "def double_list(x):\n",
    "    i=0\n",
    "    while i< len(x):\n",
    "        x[i] *= 2\n",
    "        i += 1\n",
    "\n",
    "x = [1, 2, 3, 4, 5, 6]\n",
    "x = double_list(x)\n",
    "print(x)\n",
    "\n"
   ]
  },
  {
   "cell_type": "markdown",
   "metadata": {},
   "source": [
    "# Learning classes\n",
    "\n",
    "Creating custom **classes**. This gives the user the ability to group data and functions into a single customized type. The **data** in question is grouped into the class instance **attributes** and the **functions** in question are grouped into class **methods**"
   ]
  },
  {
   "cell_type": "code",
   "execution_count": 33,
   "metadata": {},
   "outputs": [
    {
     "name": "stdout",
     "output_type": "stream",
     "text": [
      "degree = 3\n"
     ]
    }
   ],
   "source": [
    "# A simple representation of P(x) = 2x^3 + 0x^2 + (-3)x + 1\n",
    "poly = [2, 0, -3, 1]\n",
    "\n",
    "degree = len(poly)-1\n",
    "\n",
    "print(f'{degree = }')"
   ]
  },
  {
   "cell_type": "markdown",
   "metadata": {},
   "source": [
    "For example, if we wantd to createa a crustom polynomial object whcih stores coefficient values as data and stores a degree computation function, we might try running the following code:"
   ]
  },
  {
   "cell_type": "code",
   "execution_count": 34,
   "metadata": {},
   "outputs": [],
   "source": [
    "# Create custom polynomial obkect\n",
    "\n",
    "class Polynomial(object):\n",
    "    # Call the __init__ function which initializes the attributes of the object\n",
    "    def __init__(self, coef): # this is a dunder method. it's a special kind of method with __ on either side. This one is ALWAYS used when started a class because it is INTIALIZING the given isntance of the object.\n",
    "        self.coef = coef\n",
    "    # Define a degree method\n",
    "    def degree(self):\n",
    "        degree = len(self.coef) - 1\n",
    "        return degree\n",
    "    # you whould always have a __repr__() method\n",
    "    def __repr__(self):\n",
    "        degree=self.degree()\n",
    "        string = ''\n",
    "        for i, a in enumerate(self.coef):\n",
    "            string += f\"{a}x^{degree - i} + \"\n",
    "        return string[:-2]\n",
    "    \n",
    "    def __call__(self, x):\n",
    "        degree = self.degree()\n",
    "        value = 0\n",
    "        for i, a in enumerate(self.coef):\n",
    "            value += a * x**(degree - i)\n",
    "        return value\n"
   ]
  },
  {
   "cell_type": "code",
   "execution_count": 35,
   "metadata": {},
   "outputs": [
    {
     "name": "stdout",
     "output_type": "stream",
     "text": [
      "[2, 0, -3, 1]\n",
      "[2, -2, 1]\n",
      "2x^3 + 0x^2 + -3x^1 + 1x^0 \n"
     ]
    },
    {
     "data": {
      "text/plain": [
       "2"
      ]
     },
     "execution_count": 35,
     "metadata": {},
     "output_type": "execute_result"
    }
   ],
   "source": [
    "# instantiate one instance of the polynomial class\n",
    "# P(x) = 2x^3 - 3x + 1\n",
    "p = Polynomial([2,0,-3,1]) # p is acting as self in this case. you can go into p and grab its coefficients by doing this:\n",
    "print(p.coef)\n",
    "\n",
    "q = Polynomial([2,-2,1]) # p is acting as self in this case. you can go into p and grab its coefficients by doing this:\n",
    "print(q.coef)\n",
    "\n",
    "print(p) # prints what it is. it is an object.\n",
    "p.degree()\n",
    "q.degree()\n"
   ]
  },
  {
   "cell_type": "code",
   "execution_count": 36,
   "metadata": {},
   "outputs": [
    {
     "name": "stdout",
     "output_type": "stream",
     "text": [
      "p(10) = 1971\n"
     ]
    }
   ],
   "source": [
    "coefficients = [2,0,-3,1]\n",
    "x = 10\n",
    "\n",
    "p = Polynomial(coefficients)\n",
    "p\n",
    "value = p(10)\n",
    "print(f'p({x}) = {value}')"
   ]
  },
  {
   "cell_type": "markdown",
   "metadata": {},
   "source": [
    "# NumPy\n",
    "\n",
    "Fundamental package in Python for scientific computing. Python library that provides multidimensional array object, various derived objects (such as masked arrays and matrices), and an assortment of routines for fast operations on arrays, including mathematical, logical, shape manipulation, sorting, selecting, I/O, discrete Fourier transforms, basic linear algebra, basic statistical oeprations, random simulation and much more\n",
    "\n",
    "At the core of teh NumPy package, is the ndarray object. This encapsulates n-dimensional arrays of homogeneous data types, with many operations being performed in compiled code for performace. There are several importaning differences between NumPy arrays and the standard Python sequences:\n",
    "\n",
    "- NumPy arrays have a fixed size at creation, unlike Python litsts (whcih can grow dynamically). Changing the size of an ndarray will createa a new array and delete the original\n",
    "\n",
    "- The elements in a NumPy array are all requireed to be the same data type, and thus will be the same size in memory. The exception: one can have arrays (Python, including NumPy) objects, thereby allowing for arrays of different sized elements\n",
    "\n",
    "- NumPy arrays facilitate advanced mathematical and other types of operations on large number sof data. Typically, such operations are executed more efficiently with less code than is possible using Python's built in sequences.\n",
    "\n",
    "- A growing plethora of scientific and mathermatical Python-based packages are using NumPy arraysl though these typically support Python-sequence input, they convert such input to NumPy arrays priod to processing, and they ohect output NumPy arrays. In other words, in order to efficiently use much (perhaps even most) of today's scientific/mathermatical Python-based software, just knowing how to use Python's built in sequence types is insufficient - one also needs to know how to use NumPy arrays."
   ]
  },
  {
   "cell_type": "markdown",
   "metadata": {},
   "source": [
    "### The Basic NumPy ndarray\n",
    "\n",
    "The most basic type of NumPy array\n",
    "\n",
    "If lists are more like Matlab cells, NumPy arrays are more like Matlab vectors. For isntance, in a list you can put strings with numbers but in a ndarray, you cannot mix types, expect you CAN mix floats and integers"
   ]
  },
  {
   "cell_type": "markdown",
   "metadata": {},
   "source": [
    "**Attributes**"
   ]
  },
  {
   "cell_type": "code",
   "execution_count": 37,
   "metadata": {},
   "outputs": [
    {
     "name": "stdout",
     "output_type": "stream",
     "text": [
      "a = array([1., 2., 3.])\n",
      "The type of a is: type(a) = <class 'numpy.ndarray'>\n",
      "The shape of a is: a.shape = (3,)\n",
      "The types in a is: a.dtype = dtype('float64')\n",
      "b = array([1., 2., 3.])\n",
      "The type of b is: type(b) = <class 'numpy.ndarray'>\n",
      "The shape of b is: b.shape = (3,)\n",
      "The types in b is: b.dtype = dtype('float64')\n"
     ]
    }
   ],
   "source": [
    "import numpy as np\n",
    "\n",
    "a = [1.0, 2.0, 3.0]\n",
    "a = np.array(a) # for example, array is a method in the object np\n",
    "print(f'{a = }')\n",
    "print(f'The type of a is: {type(a) = }')\n",
    "print(f'The shape of a is: {a.shape = }') # shape is an attribute of a\n",
    "print(f'The types in a is: {a.dtype = }') # dtype is an attribute of a\n",
    "\n",
    "b = [1,2.0,3]\n",
    "b = np.array(b) # for example, array is a method in the object np\n",
    "print(f'{b = }')\n",
    "print(f'The type of b is: {type(b) = }')\n",
    "print(f'The shape of b is: {b.shape = }')\n",
    "print(f'The types in b is: {b.dtype = }')\n"
   ]
  },
  {
   "cell_type": "markdown",
   "metadata": {},
   "source": [
    "**Methods**\n",
    "\n",
    "- ndarray.mean()\n",
    "\n",
    "- ndarray.max()\n",
    "\n",
    "- ndarray.argmax(): index of the maximum value\n",
    "\n",
    "- ndarray.min()\n",
    "\n",
    "- ndarray.argmin() : index of the minimum value\n",
    "\n",
    "\n"
   ]
  },
  {
   "cell_type": "code",
   "execution_count": 38,
   "metadata": {},
   "outputs": [
    {
     "name": "stdout",
     "output_type": "stream",
     "text": [
      "a=array([1., 2., 3.])\n",
      "mean is a.mean() = 2.0\n",
      "max is a.max() = 3.0\n",
      "max index is a.argmax() = 2\n"
     ]
    }
   ],
   "source": [
    "print(f'{a=}')\n",
    "print(f'mean is {a.mean() = }')\n",
    "print(f'max is {a.max() = }')\n",
    "print(f'max index is {a.argmax() = }')"
   ]
  },
  {
   "cell_type": "code",
   "execution_count": 39,
   "metadata": {},
   "outputs": [
    {
     "name": "stdout",
     "output_type": "stream",
     "text": [
      "3*a = array([3., 6., 9.])\n",
      "a+b = array([2., 4., 6.])\n",
      "a- 2*b = array([-1., -2., -3.])\n"
     ]
    }
   ],
   "source": [
    "print(f'{3*a = }')\n",
    "print(f'{a+b = }')\n",
    "print(f'{a- 2*b = }')"
   ]
  },
  {
   "cell_type": "markdown",
   "metadata": {},
   "source": [
    "### Make row or column vectors\n",
    "\n",
    "var.shape(column, row)\n",
    "\n",
    "Examples: \n",
    "\n",
    "**a.shape(1, 3)** is a ROW vector, with 3 columns and 1 row\n",
    "\n",
    "**b.shape(3, 1)** is a COLUMN vector, with 1 column and 3 rows"
   ]
  },
  {
   "cell_type": "code",
   "execution_count": 40,
   "metadata": {},
   "outputs": [
    {
     "name": "stdout",
     "output_type": "stream",
     "text": [
      "a=array([[1., 2., 3.]])\n",
      "b=array([[1.],\n",
      "       [2.],\n",
      "       [3.]])\n"
     ]
    }
   ],
   "source": [
    "a.shape = (1,3) # row vector with 1 row and 3 columns\n",
    "print(f'{a=}')\n",
    "\n",
    "b.shape = (3,1) # column vector with 3 row and 1 columns\n",
    "print(f'{b=}')"
   ]
  },
  {
   "cell_type": "markdown",
   "metadata": {},
   "source": [
    "### Matrices"
   ]
  },
  {
   "cell_type": "code",
   "execution_count": 41,
   "metadata": {},
   "outputs": [
    {
     "name": "stdout",
     "output_type": "stream",
     "text": [
      "A.shape = (2, 3)\n",
      "A=array([[1, 2, 3],\n",
      "       [4, 5, 6]])\n",
      "A[:,0]=array([1, 4])\n",
      "A[:,1]=array([2, 5])\n",
      "A[1,:]=array([4, 5, 6])\n"
     ]
    }
   ],
   "source": [
    "a_list = [1,2,3]\n",
    "b_list = [4,5,6]\n",
    "A = np.array([a_list,b_list])\n",
    "print(f'{A.shape = }')\n",
    "print(f'{A=}')\n",
    "print(f'{A[:,0]=}')\n",
    "print(f'{A[:,1]=}')\n",
    "print(f'{A[1,:]=}')"
   ]
  },
  {
   "cell_type": "code",
   "execution_count": 42,
   "metadata": {},
   "outputs": [
    {
     "name": "stdout",
     "output_type": "stream",
     "text": [
      "A_transposed=array([[1, 4],\n",
      "       [2, 5],\n",
      "       [3, 6]])\n"
     ]
    }
   ],
   "source": [
    "# Transpose method\n",
    "A_transposed = A.T\n",
    "print(f'{A_transposed=}')"
   ]
  },
  {
   "cell_type": "markdown",
   "metadata": {},
   "source": [
    "## Random numbers, vectors, and matrices with NumPy\n",
    "\n",
    "### What is a Random Number?\n",
    "The terma random number does NOT mean a different number every time. Random means somethign taht can not be predicted logically.\n",
    "\n",
    "### Pseudo Random versus True Random.\n",
    "Comptuers work on programs, and programs are definitive set of instructions. So it means there must be some algorithm to generate a random number as well. If there is a program to genera random number it can be predicted, thus it is not truly random. Random numebrs genreated through a generation algorithm are called psuedo random.\n",
    "\n",
    "### The NumPy random module\n",
    "NumPy offers the random module to work with random numbers. to beign we first generate a random int and random float by running the following code in the cell below.\n",
    "\n",
    "np has a random module, and inside that random modeule is differen atrtributes and functions\n"
   ]
  },
  {
   "cell_type": "markdown",
   "metadata": {},
   "source": [
    "### random numbers"
   ]
  },
  {
   "cell_type": "code",
   "execution_count": 43,
   "metadata": {},
   "outputs": [
    {
     "name": "stdout",
     "output_type": "stream",
     "text": [
      "x=8\n",
      "y=0.5111053146968115\n"
     ]
    }
   ],
   "source": [
    "# Random integer between 0 and 100\n",
    "x = np.random.randint(100)\n",
    "print(f'{x=}')\n",
    "\n",
    "# Random float between 0 and 1\n",
    "\n",
    "y = np.random.rand()\n",
    "print(f'{y=}')"
   ]
  },
  {
   "cell_type": "markdown",
   "metadata": {},
   "source": [
    "### random arrays"
   ]
  },
  {
   "cell_type": "code",
   "execution_count": 44,
   "metadata": {},
   "outputs": [
    {
     "name": "stdout",
     "output_type": "stream",
     "text": [
      "x=array([19, 83, 56, 61, 74])\n",
      "y=array([0.27136088, 0.09323965, 0.9590023 , 0.48510423, 0.47166342])\n"
     ]
    }
   ],
   "source": [
    "# Random integer array between 0 and 100 and 5 entries\n",
    "x = np.random.randint(100, size=5)\n",
    "print(f'{x=}')\n",
    "\n",
    "# Random float between 0 and 1 and 5 entires\n",
    "\n",
    "y = np.random.rand(5)\n",
    "print(f'{y=}')"
   ]
  },
  {
   "cell_type": "code",
   "execution_count": 45,
   "metadata": {},
   "outputs": [
    {
     "name": "stdout",
     "output_type": "stream",
     "text": [
      "x=array([99, 60, 83, 44, 92])\n",
      "y=array([[0.00861838, 0.18101884],\n",
      "       [0.77877451, 0.9603835 ],\n",
      "       [0.12215388, 0.92717819],\n",
      "       [0.86043277, 0.96121267],\n",
      "       [0.7050118 , 0.36440099]])\n"
     ]
    }
   ],
   "source": [
    "# Random integer array between 0 and 100 and 5 entries\n",
    "x = np.random.randint(100, size=5)\n",
    "print(f'{x=}')\n",
    "\n",
    "# Random float between 0 and 1 and 5 entires\n",
    "\n",
    "y = np.random.rand(5,2)\n",
    "print(f'{y=}')"
   ]
  },
  {
   "cell_type": "markdown",
   "metadata": {},
   "source": [
    "### random sampling\n",
    "\n",
    "Take a random choice from a list"
   ]
  },
  {
   "cell_type": "code",
   "execution_count": 46,
   "metadata": {},
   "outputs": [
    {
     "name": "stdout",
     "output_type": "stream",
     "text": [
      "x=6\n"
     ]
    }
   ],
   "source": [
    "a = [3, 6, 9, 12]\n",
    "\n",
    "# randomly choose a value from that list a\n",
    "x = np.random.choice(a)\n",
    "print(f'{x=}')"
   ]
  },
  {
   "cell_type": "markdown",
   "metadata": {},
   "source": [
    "# Plots"
   ]
  },
  {
   "cell_type": "code",
   "execution_count": 47,
   "metadata": {},
   "outputs": [],
   "source": [
    "import matplotlib.pyplot as plt\n",
    "import numpy as np"
   ]
  },
  {
   "cell_type": "code",
   "execution_count": 48,
   "metadata": {},
   "outputs": [
    {
     "name": "stdout",
     "output_type": "stream",
     "text": [
      "x=array([0. , 0.5, 1. , 1.5, 2. ])\n",
      "y=array([0.  , 0.25, 1.  , 2.25, 4.  ])\n"
     ]
    },
    {
     "data": {
      "image/png": "[encoded data removed]",
      "text/plain": [
       "<Figure size 640x480 with 1 Axes>"
      ]
     },
     "metadata": {},
     "output_type": "display_data"
    }
   ],
   "source": [
    "\n",
    "# define a quick function to square your input\n",
    "def squared(x):\n",
    "    return x**2\n",
    "\n",
    "x = np.array([0.0, 0.5, 1.0, 1.5, 2.0])\n",
    "y = squared(x) # Calling a function on a python LIST will NOT work. Must call on an Numy ARRAY!\n",
    "\n",
    "print(f'{x=}')\n",
    "print(f'{y=}')\n",
    "\n",
    "# Plot\n",
    "plt.plot(x,y)\n",
    "plt.show() # I guess this isnt necessary? not sure\n"
   ]
  },
  {
   "cell_type": "markdown",
   "metadata": {},
   "source": [
    "### Line plot"
   ]
  },
  {
   "cell_type": "code",
   "execution_count": 49,
   "metadata": {},
   "outputs": [
    {
     "data": {
      "image/png": "[encoded data removed]",
      "text/plain": [
       "<Figure size 1000x800 with 1 Axes>"
      ]
     },
     "metadata": {},
     "output_type": "display_data"
    }
   ],
   "source": [
    "# Set the figure size\n",
    "plt.figure(figsize = (10,8))\n",
    "\n",
    "# Plot the line graph\n",
    "plt.plot(x,y, label = 'f(x) = x^2')\n",
    "plt.show\n",
    "\n",
    "# Set the x and y labels \n",
    "plt.xlabel('time (s)')\n",
    "plt.ylabel('distance (m)')\n",
    "\n",
    "# call the legend method\n",
    "plt.legend()\n",
    "\n",
    "# set the title with larger font size\n",
    "plt.title('my first plot', fontsize=15)\n",
    "plt.show()\n"
   ]
  },
  {
   "cell_type": "markdown",
   "metadata": {},
   "source": [
    "## Scatter plot"
   ]
  },
  {
   "cell_type": "code",
   "execution_count": 50,
   "metadata": {},
   "outputs": [
    {
     "data": {
      "image/png": "[encoded data removed]",
      "text/plain": [
       "<Figure size 1000x800 with 1 Axes>"
      ]
     },
     "metadata": {},
     "output_type": "display_data"
    }
   ],
   "source": [
    "# Set the figure size\n",
    "plt.figure(figsize = (10,8))\n",
    "\n",
    "# Plot the line graph\n",
    "plt.plot(x,y, label = 'f(x) = x^2', color = 'green', linestyle = '--')\n",
    "plt.scatter(x,y, label = 'data2', color = 'red')\n",
    "plt.show\n",
    "\n",
    "# Set the x and y labels \n",
    "plt.xlabel('time (s)')\n",
    "plt.ylabel('distance (m)')\n",
    "\n",
    "# call the legend method\n",
    "plt.legend(fontsize=12)\n",
    "\n",
    "# set the title with larger font size\n",
    "plt.title('my first plot', fontsize=15)\n",
    "plt.grid()\n",
    "plt.show()"
   ]
  },
  {
   "cell_type": "markdown",
   "metadata": {},
   "source": [
    "# Pandas\n",
    "\n",
    "Open source library built on top of NumPy library. It is a Python package that offers various data structures and operations for manipulating numerical data and time series, typcially stores in tabular formats. "
   ]
  },
  {
   "cell_type": "markdown",
   "metadata": {},
   "source": [
    "### Reading in CSV Files with read_csx(path-to-file)"
   ]
  },
  {
   "cell_type": "code",
   "execution_count": 51,
   "metadata": {},
   "outputs": [],
   "source": [
    "import pandas as pd\n",
    "from sklearn.datasets import load_iris"
   ]
  },
  {
   "cell_type": "code",
   "execution_count": 52,
   "metadata": {},
   "outputs": [
    {
     "name": "stdout",
     "output_type": "stream",
     "text": [
      "   sepal_length  sepal_width  petal_length  petal_width      species\n",
      "0           5.1          3.5           1.4          0.2  Iris-setosa\n",
      "1           4.9          3.0           1.4          0.2  Iris-setosa\n",
      "2           4.7          3.2           1.3          0.2  Iris-setosa\n",
      "3           4.6          3.1           1.5          0.2  Iris-setosa\n",
      "4           5.0          3.6           1.4          0.2  Iris-setosa\n"
     ]
    },
    {
     "data": {
      "text/html": [
       "<div>\n",
       "<style scoped>\n",
       "    .dataframe tbody tr th:only-of-type {\n",
       "        vertical-align: middle;\n",
       "    }\n",
       "\n",
       "    .dataframe tbody tr th {\n",
       "        vertical-align: top;\n",
       "    }\n",
       "\n",
       "    .dataframe thead th {\n",
       "        text-align: right;\n",
       "    }\n",
       "</style>\n",
       "<table border=\"1\" class=\"dataframe\">\n",
       "  <thead>\n",
       "    <tr style=\"text-align: right;\">\n",
       "      <th></th>\n",
       "      <th>sepal_length</th>\n",
       "      <th>sepal_width</th>\n",
       "      <th>petal_length</th>\n",
       "      <th>petal_width</th>\n",
       "      <th>species</th>\n",
       "    </tr>\n",
       "  </thead>\n",
       "  <tbody>\n",
       "    <tr>\n",
       "      <th>148</th>\n",
       "      <td>6.2</td>\n",
       "      <td>3.4</td>\n",
       "      <td>5.4</td>\n",
       "      <td>2.3</td>\n",
       "      <td>Iris-virginica</td>\n",
       "    </tr>\n",
       "    <tr>\n",
       "      <th>149</th>\n",
       "      <td>5.9</td>\n",
       "      <td>3.0</td>\n",
       "      <td>5.1</td>\n",
       "      <td>1.8</td>\n",
       "      <td>Iris-virginica</td>\n",
       "    </tr>\n",
       "  </tbody>\n",
       "</table>\n",
       "</div>"
      ],
      "text/plain": [
       "     sepal_length  sepal_width  petal_length  petal_width         species\n",
       "148           6.2          3.4           5.4          2.3  Iris-virginica\n",
       "149           5.9          3.0           5.1          1.8  Iris-virginica"
      ]
     },
     "execution_count": 52,
     "metadata": {},
     "output_type": "execute_result"
    }
   ],
   "source": [
    "url = \"https://archive.ics.uci.edu/ml/machine-learning-databases/iris/iris.data\"\n",
    "\n",
    "# Load the dataset from the URL\n",
    "iris = pd.read_csv(url, header=None, names=[\"sepal_length\", \"sepal_width\", \"petal_length\", \"petal_width\", \"species\"])\n",
    "\n",
    "print(iris.head())\n",
    "\n",
    "iris.head(10)\n",
    "iris.tail(2)"
   ]
  },
  {
   "cell_type": "code",
   "execution_count": 53,
   "metadata": {},
   "outputs": [
    {
     "name": "stdout",
     "output_type": "stream",
     "text": [
      "iris.columns =Index(['sepal_length', 'sepal_width', 'petal_length', 'petal_width',\n",
      "       'species'],\n",
      "      dtype='object')\n",
      "iris.index =RangeIndex(start=0, stop=150, step=1)\n"
     ]
    },
    {
     "ename": "KeyError",
     "evalue": "'sepal length (cm)'",
     "output_type": "error",
     "traceback": [
      "\u001b[0;31m---------------------------------------------------------------------------\u001b[0m",
      "\u001b[0;31mKeyError\u001b[0m                                  Traceback (most recent call last)",
      "File \u001b[0;32m~/.pyenv/versions/myenv/lib/python3.12/site-packages/pandas/core/indexes/base.py:3805\u001b[0m, in \u001b[0;36mIndex.get_loc\u001b[0;34m(self, key)\u001b[0m\n\u001b[1;32m   3804\u001b[0m \u001b[38;5;28;01mtry\u001b[39;00m:\n\u001b[0;32m-> 3805\u001b[0m     \u001b[38;5;28;01mreturn\u001b[39;00m \u001b[38;5;28;43mself\u001b[39;49m\u001b[38;5;241;43m.\u001b[39;49m\u001b[43m_engine\u001b[49m\u001b[38;5;241;43m.\u001b[39;49m\u001b[43mget_loc\u001b[49m\u001b[43m(\u001b[49m\u001b[43mcasted_key\u001b[49m\u001b[43m)\u001b[49m\n\u001b[1;32m   3806\u001b[0m \u001b[38;5;28;01mexcept\u001b[39;00m \u001b[38;5;167;01mKeyError\u001b[39;00m \u001b[38;5;28;01mas\u001b[39;00m err:\n",
      "File \u001b[0;32mindex.pyx:167\u001b[0m, in \u001b[0;36mpandas._libs.index.IndexEngine.get_loc\u001b[0;34m()\u001b[0m\n",
      "File \u001b[0;32mindex.pyx:196\u001b[0m, in \u001b[0;36mpandas._libs.index.IndexEngine.get_loc\u001b[0;34m()\u001b[0m\n",
      "File \u001b[0;32mpandas/_libs/hashtable_class_helper.pxi:7081\u001b[0m, in \u001b[0;36mpandas._libs.hashtable.PyObjectHashTable.get_item\u001b[0;34m()\u001b[0m\n",
      "File \u001b[0;32mpandas/_libs/hashtable_class_helper.pxi:7089\u001b[0m, in \u001b[0;36mpandas._libs.hashtable.PyObjectHashTable.get_item\u001b[0;34m()\u001b[0m\n",
      "\u001b[0;31mKeyError\u001b[0m: 'sepal length (cm)'",
      "\nThe above exception was the direct cause of the following exception:\n",
      "\u001b[0;31mKeyError\u001b[0m                                  Traceback (most recent call last)",
      "Cell \u001b[0;32mIn[53], line 5\u001b[0m\n\u001b[1;32m      2\u001b[0m \u001b[38;5;28mprint\u001b[39m(\u001b[38;5;124mf\u001b[39m\u001b[38;5;124m'\u001b[39m\u001b[38;5;132;01m{\u001b[39;00miris\u001b[38;5;241m.\u001b[39mindex\u001b[38;5;250m \u001b[39m\u001b[38;5;132;01m=}\u001b[39;00m\u001b[38;5;124m'\u001b[39m)\n\u001b[1;32m      4\u001b[0m \u001b[38;5;66;03m# this is a SERIES\u001b[39;00m\n\u001b[0;32m----> 5\u001b[0m this_is_a_series \u001b[38;5;241m=\u001b[39m \u001b[43miris\u001b[49m\u001b[43m[\u001b[49m\u001b[38;5;124;43m'\u001b[39;49m\u001b[38;5;124;43msepal length (cm)\u001b[39;49m\u001b[38;5;124;43m'\u001b[39;49m\u001b[43m]\u001b[49m\n\u001b[1;32m      6\u001b[0m \u001b[38;5;28mprint\u001b[39m(this_is_a_series)\n\u001b[1;32m      8\u001b[0m \u001b[38;5;66;03m# to convert the series back to a DATAFRAME:\u001b[39;00m\n",
      "File \u001b[0;32m~/.pyenv/versions/myenv/lib/python3.12/site-packages/pandas/core/frame.py:4102\u001b[0m, in \u001b[0;36mDataFrame.__getitem__\u001b[0;34m(self, key)\u001b[0m\n\u001b[1;32m   4100\u001b[0m \u001b[38;5;28;01mif\u001b[39;00m \u001b[38;5;28mself\u001b[39m\u001b[38;5;241m.\u001b[39mcolumns\u001b[38;5;241m.\u001b[39mnlevels \u001b[38;5;241m>\u001b[39m \u001b[38;5;241m1\u001b[39m:\n\u001b[1;32m   4101\u001b[0m     \u001b[38;5;28;01mreturn\u001b[39;00m \u001b[38;5;28mself\u001b[39m\u001b[38;5;241m.\u001b[39m_getitem_multilevel(key)\n\u001b[0;32m-> 4102\u001b[0m indexer \u001b[38;5;241m=\u001b[39m \u001b[38;5;28;43mself\u001b[39;49m\u001b[38;5;241;43m.\u001b[39;49m\u001b[43mcolumns\u001b[49m\u001b[38;5;241;43m.\u001b[39;49m\u001b[43mget_loc\u001b[49m\u001b[43m(\u001b[49m\u001b[43mkey\u001b[49m\u001b[43m)\u001b[49m\n\u001b[1;32m   4103\u001b[0m \u001b[38;5;28;01mif\u001b[39;00m is_integer(indexer):\n\u001b[1;32m   4104\u001b[0m     indexer \u001b[38;5;241m=\u001b[39m [indexer]\n",
      "File \u001b[0;32m~/.pyenv/versions/myenv/lib/python3.12/site-packages/pandas/core/indexes/base.py:3812\u001b[0m, in \u001b[0;36mIndex.get_loc\u001b[0;34m(self, key)\u001b[0m\n\u001b[1;32m   3807\u001b[0m     \u001b[38;5;28;01mif\u001b[39;00m \u001b[38;5;28misinstance\u001b[39m(casted_key, \u001b[38;5;28mslice\u001b[39m) \u001b[38;5;129;01mor\u001b[39;00m (\n\u001b[1;32m   3808\u001b[0m         \u001b[38;5;28misinstance\u001b[39m(casted_key, abc\u001b[38;5;241m.\u001b[39mIterable)\n\u001b[1;32m   3809\u001b[0m         \u001b[38;5;129;01mand\u001b[39;00m \u001b[38;5;28many\u001b[39m(\u001b[38;5;28misinstance\u001b[39m(x, \u001b[38;5;28mslice\u001b[39m) \u001b[38;5;28;01mfor\u001b[39;00m x \u001b[38;5;129;01min\u001b[39;00m casted_key)\n\u001b[1;32m   3810\u001b[0m     ):\n\u001b[1;32m   3811\u001b[0m         \u001b[38;5;28;01mraise\u001b[39;00m InvalidIndexError(key)\n\u001b[0;32m-> 3812\u001b[0m     \u001b[38;5;28;01mraise\u001b[39;00m \u001b[38;5;167;01mKeyError\u001b[39;00m(key) \u001b[38;5;28;01mfrom\u001b[39;00m \u001b[38;5;21;01merr\u001b[39;00m\n\u001b[1;32m   3813\u001b[0m \u001b[38;5;28;01mexcept\u001b[39;00m \u001b[38;5;167;01mTypeError\u001b[39;00m:\n\u001b[1;32m   3814\u001b[0m     \u001b[38;5;66;03m# If we have a listlike key, _check_indexing_error will raise\u001b[39;00m\n\u001b[1;32m   3815\u001b[0m     \u001b[38;5;66;03m#  InvalidIndexError. Otherwise we fall through and re-raise\u001b[39;00m\n\u001b[1;32m   3816\u001b[0m     \u001b[38;5;66;03m#  the TypeError.\u001b[39;00m\n\u001b[1;32m   3817\u001b[0m     \u001b[38;5;28mself\u001b[39m\u001b[38;5;241m.\u001b[39m_check_indexing_error(key)\n",
      "\u001b[0;31mKeyError\u001b[0m: 'sepal length (cm)'"
     ]
    }
   ],
   "source": [
    "print(f'{iris.columns =}')\n",
    "print(f'{iris.index =}')\n",
    "\n",
    "# this is a SERIES\n",
    "this_is_a_series = iris['sepal length (cm)']\n",
    "print(this_is_a_series)\n",
    "\n",
    "# to convert the series back to a DATAFRAME:\n",
    "this_is_a_df = pd.DataFrame(this_is_a_series)\n",
    "print(this_is_a_df)"
   ]
  },
  {
   "cell_type": "code",
   "execution_count": null,
   "metadata": {},
   "outputs": [
    {
     "data": {
      "text/html": [
       "<div>\n",
       "<style scoped>\n",
       "    .dataframe tbody tr th:only-of-type {\n",
       "        vertical-align: middle;\n",
       "    }\n",
       "\n",
       "    .dataframe tbody tr th {\n",
       "        vertical-align: top;\n",
       "    }\n",
       "\n",
       "    .dataframe thead th {\n",
       "        text-align: right;\n",
       "    }\n",
       "</style>\n",
       "<table border=\"1\" class=\"dataframe\">\n",
       "  <thead>\n",
       "    <tr style=\"text-align: right;\">\n",
       "      <th></th>\n",
       "      <th>sepal length (cm)</th>\n",
       "      <th>sepal width (cm)</th>\n",
       "    </tr>\n",
       "  </thead>\n",
       "  <tbody>\n",
       "    <tr>\n",
       "      <th>0</th>\n",
       "      <td>5.1</td>\n",
       "      <td>3.5</td>\n",
       "    </tr>\n",
       "    <tr>\n",
       "      <th>1</th>\n",
       "      <td>4.9</td>\n",
       "      <td>3.0</td>\n",
       "    </tr>\n",
       "    <tr>\n",
       "      <th>2</th>\n",
       "      <td>4.7</td>\n",
       "      <td>3.2</td>\n",
       "    </tr>\n",
       "    <tr>\n",
       "      <th>3</th>\n",
       "      <td>4.6</td>\n",
       "      <td>3.1</td>\n",
       "    </tr>\n",
       "    <tr>\n",
       "      <th>4</th>\n",
       "      <td>5.0</td>\n",
       "      <td>3.6</td>\n",
       "    </tr>\n",
       "    <tr>\n",
       "      <th>...</th>\n",
       "      <td>...</td>\n",
       "      <td>...</td>\n",
       "    </tr>\n",
       "    <tr>\n",
       "      <th>145</th>\n",
       "      <td>6.7</td>\n",
       "      <td>3.0</td>\n",
       "    </tr>\n",
       "    <tr>\n",
       "      <th>146</th>\n",
       "      <td>6.3</td>\n",
       "      <td>2.5</td>\n",
       "    </tr>\n",
       "    <tr>\n",
       "      <th>147</th>\n",
       "      <td>6.5</td>\n",
       "      <td>3.0</td>\n",
       "    </tr>\n",
       "    <tr>\n",
       "      <th>148</th>\n",
       "      <td>6.2</td>\n",
       "      <td>3.4</td>\n",
       "    </tr>\n",
       "    <tr>\n",
       "      <th>149</th>\n",
       "      <td>5.9</td>\n",
       "      <td>3.0</td>\n",
       "    </tr>\n",
       "  </tbody>\n",
       "</table>\n",
       "<p>150 rows × 2 columns</p>\n",
       "</div>"
      ],
      "text/plain": [
       "     sepal length (cm)  sepal width (cm)\n",
       "0                  5.1               3.5\n",
       "1                  4.9               3.0\n",
       "2                  4.7               3.2\n",
       "3                  4.6               3.1\n",
       "4                  5.0               3.6\n",
       "..                 ...               ...\n",
       "145                6.7               3.0\n",
       "146                6.3               2.5\n",
       "147                6.5               3.0\n",
       "148                6.2               3.4\n",
       "149                5.9               3.0\n",
       "\n",
       "[150 rows x 2 columns]"
      ]
     },
     "execution_count": 432,
     "metadata": {},
     "output_type": "execute_result"
    }
   ],
   "source": [
    "this_is_a_df = iris[['sepal length (cm)', 'sepal width (cm)']]\n",
    "this_is_a_df"
   ]
  },
  {
   "cell_type": "markdown",
   "metadata": {},
   "source": [
    "### iloc method - grabs INTEGERS only\n",
    "\n",
    "There are two ways to access a single row from a panadas DataFram. However, we will for now focus on the DataFram iloc() method (integer index location method). This method workds in a similar manor to accessing the rows of a numpy ndarray type.\n",
    "\n",
    "Basically grabs stuff out of the dataframe and makes a amtrix out of it\n",
    "\n",
    "we'll sometimes have to use loc which grabs things other than integers"
   ]
  },
  {
   "cell_type": "code",
   "execution_count": null,
   "metadata": {},
   "outputs": [
    {
     "name": "stdout",
     "output_type": "stream",
     "text": [
      "iris.iloc[0] = \n",
      "sepal_length            5.1\n",
      "sepal_width             3.5\n",
      "petal_length            1.4\n",
      "petal_width             0.2\n",
      "species         Iris-setosa\n",
      "Name: 0, dtype: object \n",
      " \n",
      "\n",
      "iris.iloc[0] = \n",
      "    sepal_length  sepal_width  petal_length  petal_width      species\n",
      "0            5.1          3.5           1.4          0.2  Iris-setosa\n",
      "1            4.9          3.0           1.4          0.2  Iris-setosa\n",
      "2            4.7          3.2           1.3          0.2  Iris-setosa\n",
      "3            4.6          3.1           1.5          0.2  Iris-setosa\n",
      "4            5.0          3.6           1.4          0.2  Iris-setosa\n",
      "5            5.4          3.9           1.7          0.4  Iris-setosa\n",
      "6            4.6          3.4           1.4          0.3  Iris-setosa\n",
      "7            5.0          3.4           1.5          0.2  Iris-setosa\n",
      "8            4.4          2.9           1.4          0.2  Iris-setosa\n",
      "9            4.9          3.1           1.5          0.1  Iris-setosa\n",
      "10           5.4          3.7           1.5          0.2  Iris-setosa\n",
      "11           4.8          3.4           1.6          0.2  Iris-setosa\n",
      "12           4.8          3.0           1.4          0.1  Iris-setosa\n",
      "13           4.3          3.0           1.1          0.1  Iris-setosa\n",
      "14           5.8          4.0           1.2          0.2  Iris-setosa\n",
      "15           5.7          4.4           1.5          0.4  Iris-setosa\n",
      "16           5.4          3.9           1.3          0.4  Iris-setosa\n",
      "17           5.1          3.5           1.4          0.3  Iris-setosa\n",
      "18           5.7          3.8           1.7          0.3  Iris-setosa\n",
      "19           5.1          3.8           1.5          0.3  Iris-setosa\n",
      "20           5.4          3.4           1.7          0.2  Iris-setosa\n",
      "21           5.1          3.7           1.5          0.4  Iris-setosa\n",
      "22           4.6          3.6           1.0          0.2  Iris-setosa\n",
      "23           5.1          3.3           1.7          0.5  Iris-setosa\n",
      "24           4.8          3.4           1.9          0.2  Iris-setosa\n",
      "25           5.0          3.0           1.6          0.2  Iris-setosa\n",
      "26           5.0          3.4           1.6          0.4  Iris-setosa\n",
      "27           5.2          3.5           1.5          0.2  Iris-setosa\n",
      "28           5.2          3.4           1.4          0.2  Iris-setosa\n",
      "29           4.7          3.2           1.6          0.2  Iris-setosa\n",
      "30           4.8          3.1           1.6          0.2  Iris-setosa\n",
      "31           5.4          3.4           1.5          0.4  Iris-setosa\n",
      "32           5.2          4.1           1.5          0.1  Iris-setosa\n",
      "33           5.5          4.2           1.4          0.2  Iris-setosa\n",
      "34           4.9          3.1           1.5          0.1  Iris-setosa\n",
      "35           5.0          3.2           1.2          0.2  Iris-setosa\n",
      "36           5.5          3.5           1.3          0.2  Iris-setosa\n",
      "37           4.9          3.1           1.5          0.1  Iris-setosa\n",
      "38           4.4          3.0           1.3          0.2  Iris-setosa\n",
      "39           5.1          3.4           1.5          0.2  Iris-setosa\n",
      "40           5.0          3.5           1.3          0.3  Iris-setosa\n",
      "41           4.5          2.3           1.3          0.3  Iris-setosa\n",
      "42           4.4          3.2           1.3          0.2  Iris-setosa\n",
      "43           5.0          3.5           1.6          0.6  Iris-setosa\n",
      "44           5.1          3.8           1.9          0.4  Iris-setosa\n",
      "45           4.8          3.0           1.4          0.3  Iris-setosa\n",
      "46           5.1          3.8           1.6          0.2  Iris-setosa\n",
      "47           4.6          3.2           1.4          0.2  Iris-setosa\n",
      "48           5.3          3.7           1.5          0.2  Iris-setosa\n",
      "49           5.0          3.3           1.4          0.2  Iris-setosa \n",
      " \n",
      "\n"
     ]
    }
   ],
   "source": [
    "# iloc method\n",
    "print('iris.iloc[0] = ')\n",
    "print(iris.iloc[0], '\\n \\n')\n",
    "\n",
    "print('iris.iloc[0] = ')\n",
    "print(iris.iloc[0:50], '\\n \\n')"
   ]
  },
  {
   "cell_type": "markdown",
   "metadata": {},
   "source": [
    "### access data based on some boolean condition"
   ]
  },
  {
   "cell_type": "code",
   "execution_count": null,
   "metadata": {},
   "outputs": [
    {
     "name": "stdout",
     "output_type": "stream",
     "text": [
      "0      False\n",
      "1      False\n",
      "2      False\n",
      "3      False\n",
      "4      False\n",
      "       ...  \n",
      "145    False\n",
      "146    False\n",
      "147    False\n",
      "148    False\n",
      "149    False\n",
      "Name: species, Length: 150, dtype: bool\n"
     ]
    },
    {
     "data": {
      "text/html": [
       "<div>\n",
       "<style scoped>\n",
       "    .dataframe tbody tr th:only-of-type {\n",
       "        vertical-align: middle;\n",
       "    }\n",
       "\n",
       "    .dataframe tbody tr th {\n",
       "        vertical-align: top;\n",
       "    }\n",
       "\n",
       "    .dataframe thead th {\n",
       "        text-align: right;\n",
       "    }\n",
       "</style>\n",
       "<table border=\"1\" class=\"dataframe\">\n",
       "  <thead>\n",
       "    <tr style=\"text-align: right;\">\n",
       "      <th></th>\n",
       "      <th>sepal_length</th>\n",
       "      <th>sepal_width</th>\n",
       "      <th>petal_length</th>\n",
       "      <th>petal_width</th>\n",
       "      <th>species</th>\n",
       "    </tr>\n",
       "  </thead>\n",
       "  <tbody>\n",
       "    <tr>\n",
       "      <th>0</th>\n",
       "      <td>5.1</td>\n",
       "      <td>3.5</td>\n",
       "      <td>1.4</td>\n",
       "      <td>0.2</td>\n",
       "      <td>Iris-setosa</td>\n",
       "    </tr>\n",
       "    <tr>\n",
       "      <th>1</th>\n",
       "      <td>4.9</td>\n",
       "      <td>3.0</td>\n",
       "      <td>1.4</td>\n",
       "      <td>0.2</td>\n",
       "      <td>Iris-setosa</td>\n",
       "    </tr>\n",
       "    <tr>\n",
       "      <th>2</th>\n",
       "      <td>4.7</td>\n",
       "      <td>3.2</td>\n",
       "      <td>1.3</td>\n",
       "      <td>0.2</td>\n",
       "      <td>Iris-setosa</td>\n",
       "    </tr>\n",
       "    <tr>\n",
       "      <th>3</th>\n",
       "      <td>4.6</td>\n",
       "      <td>3.1</td>\n",
       "      <td>1.5</td>\n",
       "      <td>0.2</td>\n",
       "      <td>Iris-setosa</td>\n",
       "    </tr>\n",
       "    <tr>\n",
       "      <th>4</th>\n",
       "      <td>5.0</td>\n",
       "      <td>3.6</td>\n",
       "      <td>1.4</td>\n",
       "      <td>0.2</td>\n",
       "      <td>Iris-setosa</td>\n",
       "    </tr>\n",
       "  </tbody>\n",
       "</table>\n",
       "</div>"
      ],
      "text/plain": [
       "   sepal_length  sepal_width  petal_length  petal_width      species\n",
       "0           5.1          3.5           1.4          0.2  Iris-setosa\n",
       "1           4.9          3.0           1.4          0.2  Iris-setosa\n",
       "2           4.7          3.2           1.3          0.2  Iris-setosa\n",
       "3           4.6          3.1           1.5          0.2  Iris-setosa\n",
       "4           5.0          3.6           1.4          0.2  Iris-setosa"
      ]
     },
     "execution_count": 456,
     "metadata": {},
     "output_type": "execute_result"
    }
   ],
   "source": [
    "#grab only sentosa species\n",
    "print(iris.species == 'Iris-sentosa')\n",
    "iris[iris.species == 'Iris-setosa'].head()\n"
   ]
  },
  {
   "cell_type": "markdown",
   "metadata": {},
   "source": [
    "### add columns\n",
    "\n",
    "In supervised machine learning, we'll often want to learn what data corresponds to what category (like setosa species as seen above). But it's much easier to find these when they are labeled numerically.\n",
    "\n",
    "When perforaming supervised machine learning tasks, classification algorithms require numerical values. So, if we try and classify iris species we would first ened to either change the species column to be numerica, or create a column with numerical labels. because we want to retain the species name of each instance we decide to make a new datafram column. \n",
    "\n",
    "Lets add a column that defines the different species numerically (e.g., setosa = 1)"
   ]
  },
  {
   "cell_type": "code",
   "execution_count": 458,
   "metadata": {},
   "outputs": [
    {
     "data": {
      "text/html": [
       "<div>\n",
       "<style scoped>\n",
       "    .dataframe tbody tr th:only-of-type {\n",
       "        vertical-align: middle;\n",
       "    }\n",
       "\n",
       "    .dataframe tbody tr th {\n",
       "        vertical-align: top;\n",
       "    }\n",
       "\n",
       "    .dataframe thead th {\n",
       "        text-align: right;\n",
       "    }\n",
       "</style>\n",
       "<table border=\"1\" class=\"dataframe\">\n",
       "  <thead>\n",
       "    <tr style=\"text-align: right;\">\n",
       "      <th></th>\n",
       "      <th>sepal_length</th>\n",
       "      <th>sepal_width</th>\n",
       "      <th>petal_length</th>\n",
       "      <th>petal_width</th>\n",
       "      <th>species</th>\n",
       "      <th>target</th>\n",
       "    </tr>\n",
       "  </thead>\n",
       "  <tbody>\n",
       "    <tr>\n",
       "      <th>0</th>\n",
       "      <td>5.1</td>\n",
       "      <td>3.5</td>\n",
       "      <td>1.4</td>\n",
       "      <td>0.2</td>\n",
       "      <td>Iris-setosa</td>\n",
       "      <td>0</td>\n",
       "    </tr>\n",
       "    <tr>\n",
       "      <th>1</th>\n",
       "      <td>4.9</td>\n",
       "      <td>3.0</td>\n",
       "      <td>1.4</td>\n",
       "      <td>0.2</td>\n",
       "      <td>Iris-setosa</td>\n",
       "      <td>0</td>\n",
       "    </tr>\n",
       "    <tr>\n",
       "      <th>2</th>\n",
       "      <td>4.7</td>\n",
       "      <td>3.2</td>\n",
       "      <td>1.3</td>\n",
       "      <td>0.2</td>\n",
       "      <td>Iris-setosa</td>\n",
       "      <td>0</td>\n",
       "    </tr>\n",
       "    <tr>\n",
       "      <th>3</th>\n",
       "      <td>4.6</td>\n",
       "      <td>3.1</td>\n",
       "      <td>1.5</td>\n",
       "      <td>0.2</td>\n",
       "      <td>Iris-setosa</td>\n",
       "      <td>0</td>\n",
       "    </tr>\n",
       "    <tr>\n",
       "      <th>4</th>\n",
       "      <td>5.0</td>\n",
       "      <td>3.6</td>\n",
       "      <td>1.4</td>\n",
       "      <td>0.2</td>\n",
       "      <td>Iris-setosa</td>\n",
       "      <td>0</td>\n",
       "    </tr>\n",
       "    <tr>\n",
       "      <th>...</th>\n",
       "      <td>...</td>\n",
       "      <td>...</td>\n",
       "      <td>...</td>\n",
       "      <td>...</td>\n",
       "      <td>...</td>\n",
       "      <td>...</td>\n",
       "    </tr>\n",
       "    <tr>\n",
       "      <th>145</th>\n",
       "      <td>6.7</td>\n",
       "      <td>3.0</td>\n",
       "      <td>5.2</td>\n",
       "      <td>2.3</td>\n",
       "      <td>Iris-virginica</td>\n",
       "      <td>2</td>\n",
       "    </tr>\n",
       "    <tr>\n",
       "      <th>146</th>\n",
       "      <td>6.3</td>\n",
       "      <td>2.5</td>\n",
       "      <td>5.0</td>\n",
       "      <td>1.9</td>\n",
       "      <td>Iris-virginica</td>\n",
       "      <td>2</td>\n",
       "    </tr>\n",
       "    <tr>\n",
       "      <th>147</th>\n",
       "      <td>6.5</td>\n",
       "      <td>3.0</td>\n",
       "      <td>5.2</td>\n",
       "      <td>2.0</td>\n",
       "      <td>Iris-virginica</td>\n",
       "      <td>2</td>\n",
       "    </tr>\n",
       "    <tr>\n",
       "      <th>148</th>\n",
       "      <td>6.2</td>\n",
       "      <td>3.4</td>\n",
       "      <td>5.4</td>\n",
       "      <td>2.3</td>\n",
       "      <td>Iris-virginica</td>\n",
       "      <td>2</td>\n",
       "    </tr>\n",
       "    <tr>\n",
       "      <th>149</th>\n",
       "      <td>5.9</td>\n",
       "      <td>3.0</td>\n",
       "      <td>5.1</td>\n",
       "      <td>1.8</td>\n",
       "      <td>Iris-virginica</td>\n",
       "      <td>2</td>\n",
       "    </tr>\n",
       "  </tbody>\n",
       "</table>\n",
       "<p>150 rows × 6 columns</p>\n",
       "</div>"
      ],
      "text/plain": [
       "     sepal_length  sepal_width  petal_length  petal_width         species  \\\n",
       "0             5.1          3.5           1.4          0.2     Iris-setosa   \n",
       "1             4.9          3.0           1.4          0.2     Iris-setosa   \n",
       "2             4.7          3.2           1.3          0.2     Iris-setosa   \n",
       "3             4.6          3.1           1.5          0.2     Iris-setosa   \n",
       "4             5.0          3.6           1.4          0.2     Iris-setosa   \n",
       "..            ...          ...           ...          ...             ...   \n",
       "145           6.7          3.0           5.2          2.3  Iris-virginica   \n",
       "146           6.3          2.5           5.0          1.9  Iris-virginica   \n",
       "147           6.5          3.0           5.2          2.0  Iris-virginica   \n",
       "148           6.2          3.4           5.4          2.3  Iris-virginica   \n",
       "149           5.9          3.0           5.1          1.8  Iris-virginica   \n",
       "\n",
       "     target  \n",
       "0         0  \n",
       "1         0  \n",
       "2         0  \n",
       "3         0  \n",
       "4         0  \n",
       "..      ...  \n",
       "145       2  \n",
       "146       2  \n",
       "147       2  \n",
       "148       2  \n",
       "149       2  \n",
       "\n",
       "[150 rows x 6 columns]"
      ]
     },
     "execution_count": 458,
     "metadata": {},
     "output_type": "execute_result"
    }
   ],
   "source": [
    "# Make a new function\n",
    "\n",
    "def make_target(species):\n",
    "    if species == 'Iris-setosa':\n",
    "        return 0\n",
    "    elif species == 'Iris-versicolor':\n",
    "        return 1\n",
    "    else:\n",
    "        return 2\n",
    "\n",
    "# This creates a NEW COLUMN called target. This uses the .map() function whcih takes all entires in iris.species and \n",
    "# applies the function mark_target to them and outputs the value that is 'returned' \n",
    "# in that function then converts it to a list, which can be the column input\n",
    "iris['target'] = list(map(make_target, iris.species))\n",
    "iris"
   ]
  }
 ],
 "metadata": {
  "kernelspec": {
   "display_name": "myenv",
   "language": "python",
   "name": "python3"
  },
  "language_info": {
   "codemirror_mode": {
    "name": "ipython",
    "version": 3
   },
   "file_extension": ".py",
   "mimetype": "text/x-python",
   "name": "python",
   "nbconvert_exporter": "python",
   "pygments_lexer": "ipython3",
   "version": "3.12.6"
  }
 },
 "nbformat": 4,
 "nbformat_minor": 2
}
