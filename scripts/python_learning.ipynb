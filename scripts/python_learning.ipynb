{
 "cells": [
  {
   "cell_type": "markdown",
   "metadata": {},
   "source": [
    "# Learning strings\n",
    "### Immutable "
   ]
  },
  {
   "cell_type": "code",
   "execution_count": 3,
   "metadata": {},
   "outputs": [
    {
     "name": "stdout",
     "output_type": "stream",
     "text": [
      "Hello World!\n"
     ]
    }
   ],
   "source": [
    "print('Hello World!')"
   ]
  },
  {
   "cell_type": "code",
   "execution_count": 14,
   "metadata": {},
   "outputs": [
    {
     "data": {
      "text/plain": [
       "'john doe is 10 years old'"
      ]
     },
     "execution_count": 14,
     "metadata": {},
     "output_type": "execute_result"
    }
   ],
   "source": [
    "first_name = 'john'\n",
    "last_name = 'doe'\n",
    "first_name + last_name\n",
    "full_name = first_name + ' ' + last_name\n",
    "age = 10\n",
    "\n",
    "f'{first_name} {last_name} is {age} years old'\n"
   ]
  },
  {
   "cell_type": "code",
   "execution_count": 20,
   "metadata": {},
   "outputs": [
    {
     "data": {
      "text/plain": [
       "2"
      ]
     },
     "execution_count": 20,
     "metadata": {},
     "output_type": "execute_result"
    }
   ],
   "source": [
    "full_name.title()\n",
    "full_name.capitalize()\n",
    "full_name.count('j')\n",
    "full_name.find('h')"
   ]
  },
  {
   "cell_type": "code",
   "execution_count": 62,
   "metadata": {},
   "outputs": [
    {
     "name": "stdout",
     "output_type": "stream",
     "text": [
      "Help on built-in function count:\n",
      "\n",
      "count(...) method of builtins.str instance\n",
      "    S.count(sub[, start[, end]]) -> int\n",
      "\n",
      "    Return the number of non-overlapping occurrences of substring sub in\n",
      "    string S[start:end].  Optional arguments start and end are\n",
      "    interpreted as in slice notation.\n",
      "\n",
      "john doe contains 8 characters\n"
     ]
    }
   ],
   "source": [
    "help(full_name.count)\n",
    "print(f'{full_name} contains {len(full_name)} characters')"
   ]
  },
  {
   "cell_type": "code",
   "execution_count": 63,
   "metadata": {},
   "outputs": [
    {
     "data": {
      "text/plain": [
       "'copycopycopycopycopycopycopycopycopycopy'"
      ]
     },
     "execution_count": 63,
     "metadata": {},
     "output_type": "execute_result"
    }
   ],
   "source": [
    "'copy'*10"
   ]
  },
  {
   "cell_type": "code",
   "execution_count": 34,
   "metadata": {},
   "outputs": [
    {
     "name": "stdout",
     "output_type": "stream",
     "text": [
      "abcdefg contains 7 characters and the first index is a and the second is b \n",
      " and the third is c\n",
      "abcdefg contains 7 characters and the last index is g\n"
     ]
    }
   ],
   "source": [
    "test_string = 'abcdefg'\n",
    "test_string[0]\n",
    "print(f'{test_string} contains {len(test_string)} characters and the first index is {test_string[0]} and the second is {test_string[1]} \\n and the third is {test_string[2]}')\n",
    "\n",
    "print(f'{test_string} contains {len(test_string)} characters and the last index is {test_string[-1]}')"
   ]
  },
  {
   "cell_type": "code",
   "execution_count": 35,
   "metadata": {},
   "outputs": [
    {
     "name": "stdout",
     "output_type": "stream",
     "text": [
      "abcdefg contains 7 characters and the 2nd through 4th index is bcd\n"
     ]
    }
   ],
   "source": [
    "print(f'{test_string} contains {len(test_string)} characters and the 2nd through 4th index is {test_string[1:4]}')"
   ]
  },
  {
   "cell_type": "markdown",
   "metadata": {},
   "source": [
    "# Learn lists\n",
    "### Mutable "
   ]
  },
  {
   "cell_type": "markdown",
   "metadata": {},
   "source": [
    "### IMPORTANT: \n",
    "Lists are NOT vectors like in Matlab. They are solely ordered obkects of any type and are NOT numerical vectors like in MAatlab. To get things like vectors you'll need Numpy whihc we will get to later"
   ]
  },
  {
   "cell_type": "code",
   "execution_count": 45,
   "metadata": {},
   "outputs": [
    {
     "name": "stdout",
     "output_type": "stream",
     "text": [
      "[1, 3.5, 4, 6, 1.3, 10]\n",
      "[1, 'one', 4, 'five']\n",
      "[[1, 3.5, 4, 6, 1.3, 10], [1, 'one', 4, 'five']]\n",
      "the number of items in [1, 'one', 4, 'five'] is 4\n"
     ]
    }
   ],
   "source": [
    "# List of numbers\n",
    "num_list = [1, 3.5, 4, 6, 1.3, 10]\n",
    "print(num_list)\n",
    "\n",
    "# List of strings and numbers\n",
    "num_str_list = [1, 'one', 4, 'five']\n",
    "print(num_str_list)\n",
    "\n",
    "nested_list = [num_list, num_str_list]\n",
    "print(nested_list)\n",
    "\n",
    "print(f'the number of items in {num_str_list} is {len(num_str_list)}')\n",
    "                "
   ]
  },
  {
   "cell_type": "code",
   "execution_count": 78,
   "metadata": {},
   "outputs": [
    {
     "name": "stdout",
     "output_type": "stream",
     "text": [
      "sample_list = [5, 3.2, 10, 'hello', 3, 'world', 4]\n",
      "--------------------------------------------------\n",
      "the max of the sample list is 10 \n",
      "\n",
      "the sum of the sample list is 25.2 \n",
      "\n",
      "the min of the sample list is 3 \n",
      "\n",
      "--------------------------------------------------\n"
     ]
    }
   ],
   "source": [
    "sample_list = [5 , 3.2, 10, 'hello', 3, 'world', 4]\n",
    "sample_list_num = [5 , 3.2, 10, 3, 4]\n",
    "title = f'sample_list = {sample_list}'\n",
    "print(title)\n",
    "print('-'*len(title))\n",
    "print(f'the max of the sample list is {max(sample_list_num)} \\n')\n",
    "print(f'the sum of the sample list is {sum(sample_list_num)} \\n')\n",
    "print(f'the min of the sample list is {min(sample_list_num)} \\n')\n",
    "print('-'*len(title))"
   ]
  },
  {
   "cell_type": "code",
   "execution_count": 73,
   "metadata": {},
   "outputs": [
    {
     "name": "stdout",
     "output_type": "stream",
     "text": [
      "True\n"
     ]
    },
    {
     "data": {
      "text/plain": [
       "False"
      ]
     },
     "execution_count": 73,
     "metadata": {},
     "output_type": "execute_result"
    }
   ],
   "source": [
    "print(first_name not in title)\n",
    "'s' not in title"
   ]
  },
  {
   "cell_type": "code",
   "execution_count": 86,
   "metadata": {},
   "outputs": [
    {
     "name": "stdout",
     "output_type": "stream",
     "text": [
      "None\n",
      "[5, 3.2, 10, 'hello', 3, 'world', 4, 'apple']\n",
      "old  [5, 3.2, 10, 'hello', 3, 'world', 4, 'apple']\n",
      "new  [5, 3.2, 10, 'hello', 3, 'world', 4, 'apple', 'pear']\n"
     ]
    }
   ],
   "source": [
    "sample_list = [5 , 3.2, 10, 'hello', 3, 'world', 4]\n",
    "sample_list = sample_list.append('apple')\n",
    "print(sample_list)\n",
    "\n",
    "sample_list = [5 , 3.2, 10, 'hello', 3, 'world', 4]\n",
    "sample_list.append('apple')\n",
    "print(sample_list)\n",
    "\n",
    "sample_list_new = sample_list.copy()\n",
    "sample_list_new.append('pear')\n",
    "print('old ', sample_list)\n",
    "print('new ', sample_list_new)"
   ]
  },
  {
   "cell_type": "code",
   "execution_count": 95,
   "metadata": {},
   "outputs": [
    {
     "name": "stdout",
     "output_type": "stream",
     "text": [
      "Help on built-in function sort:\n",
      "\n",
      "sort(*, key=None, reverse=False) method of builtins.list instance\n",
      "    Sort the list in ascending order and return None.\n",
      "\n",
      "    The sort is in-place (i.e. the list itself is modified) and stable (i.e. the\n",
      "    order of two equal elements is maintained).\n",
      "\n",
      "    If a key function is given, apply it once to each list item and sort them,\n",
      "    ascending or descending, according to their function values.\n",
      "\n",
      "    The reverse flag can be set to sort in descending order.\n",
      "\n",
      "[1, 4, 10, 14]\n",
      "[14, 10, 4, 1]\n"
     ]
    }
   ],
   "source": [
    "sample_list = [1,4,10, 14]\n",
    "help(sample_list.sort)\n",
    "print(sample_list)\n",
    "\n",
    "sample_list.sort(reverse = True)\n",
    "print(sample_list)"
   ]
  },
  {
   "cell_type": "markdown",
   "metadata": {},
   "source": [
    "# Learn tuples\n",
    "### Immutable versions of lists\n",
    "You can't append or change a tuple at all, like you can lists \n",
    "\n",
    "Create with parentheses () instead of brackets [] as lists are\n",
    "\n",
    "Pretty much everything else is the same. you can find min, max, sum, etc. And you can index and slice"
   ]
  },
  {
   "cell_type": "code",
   "execution_count": 101,
   "metadata": {},
   "outputs": [
    {
     "name": "stdout",
     "output_type": "stream",
     "text": [
      "1\n",
      "3\n",
      "17\n"
     ]
    }
   ],
   "source": [
    "a = (1, 2, 5, 3, 6)\n",
    "\n",
    "print(min(a))\n",
    "print(a[3])\n",
    "print(sum(a))"
   ]
  },
  {
   "cell_type": "markdown",
   "metadata": {},
   "source": [
    "# Learn sets\n",
    "### Mutable\n",
    "\n",
    "### Formal mathematical definition of sets. Namely, unordered collections of elements without repitiions of elements. \n",
    "\n",
    "### Use curly brackets {} \n",
    "\n",
    "### IMPORTANT:\n",
    "(a) sets are not ordered\n",
    "\n",
    "(b) set elements are unique. Duplciate elements are not allowed\n",
    "\n",
    "(c) a set itself may be modified, bu tht elements contained in the set must be an ummutable type."
   ]
  },
  {
   "cell_type": "code",
   "execution_count": 111,
   "metadata": {},
   "outputs": [
    {
     "name": "stdout",
     "output_type": "stream",
     "text": [
      "{'c', 4, 'b', 'a'}\n",
      "{1, 1.3, 3.5, 4, 6, 10}\n"
     ]
    }
   ],
   "source": [
    "create_new_set = {'a', 'b', 'c', 4,4}\n",
    "print(create_new_set)\n",
    "\n",
    "create_new_set\n",
    "\n",
    "make_set_from_existing_list = set (num_list)\n",
    "print(make_set_from_existing_list)"
   ]
  },
  {
   "cell_type": "code",
   "execution_count": 113,
   "metadata": {},
   "outputs": [
    {
     "name": "stdout",
     "output_type": "stream",
     "text": [
      "list is [5, 4, 'a', 3, 10, 'b']\n",
      "set is {3, 4, 5, 'a', 10, 'b'}\n",
      "unique list is [3, 4, 5, 'a', 10, 'b']\n"
     ]
    }
   ],
   "source": [
    "# Get unique element\n",
    "new_list = [5, 4, 'a', 3, 10, 'b']\n",
    "print(f'list is {new_list}')\n",
    "print(f'set is {set(new_list)}')\n",
    "print(f'unique list is {list(set(new_list))}')"
   ]
  },
  {
   "cell_type": "markdown",
   "metadata": {},
   "source": [
    "# Learn dictionaries\n",
    "\n",
    "### Important:\n",
    "Dictionaries are key value pairs. You are collecting a bunch of keys and values\n",
    "\n",
    "Think about this like you have a label (key) associated with a value"
   ]
  },
  {
   "cell_type": "code",
   "execution_count": 138,
   "metadata": {},
   "outputs": [
    {
     "name": "stdout",
     "output_type": "stream",
     "text": [
      "sample_dictionary = {'first_name': 'John', 'last_name': 'Doe', 'age': 34}\n",
      "sample_dictionary key-values pairs (aka items) =  dict_items([('first_name', 'John'), ('last_name', 'Doe'), ('age', 34)])\n",
      "sample_dictionary keys =  dict_keys(['first_name', 'last_name', 'age'])\n",
      "sample_dictionary values =  dict_values(['John', 'Doe', 34])\n"
     ]
    }
   ],
   "source": [
    "sample_dictionary = {'first_name': 'John', \n",
    "                     'last_name': 'Doe', \n",
    "                     'age': 34\n",
    "                     }\n",
    "\n",
    "print(f'sample_dictionary = {sample_dictionary}')\n",
    "\n",
    "# return keys and values \n",
    "print(f'sample_dictionary key-values pairs (aka items) =  {sample_dictionary.items()}')\n",
    "\n",
    "# return keys only\n",
    "print(f'sample_dictionary keys =  {sample_dictionary.keys()}')\n",
    "\n",
    "# return values only\n",
    "print(f'sample_dictionary values =  {sample_dictionary.values()}')\n",
    "\n",
    "# You can see from the output that the keys-value pairs are each tuples (i.e., ('first name', 'John'))\n",
    "# and the dictionary is a list of all the key-value tuples \n",
    "# (i.e., [('first name', 'John'), ('last_name', 'Doe'), ('age', 34)])"
   ]
  },
  {
   "cell_type": "code",
   "execution_count": 139,
   "metadata": {},
   "outputs": [
    {
     "name": "stdout",
     "output_type": "stream",
     "text": [
      "John\n",
      "This is the dictionary value of the first name key: John\n"
     ]
    }
   ],
   "source": [
    "# Each key points toward a value and can be accessed wiht [] \n",
    "# sample_dictionary[key] = value\n",
    "\n",
    "print(sample_dictionary['first_name'])\n",
    "\n",
    "# Must have different quote styles if youre going to put a string inside a string:\n",
    "print(f'This is the dictionary value of the first name key: {sample_dictionary['first_name']}')"
   ]
  },
  {
   "cell_type": "code",
   "execution_count": 140,
   "metadata": {},
   "outputs": [
    {
     "name": "stdout",
     "output_type": "stream",
     "text": [
      "{'first_name': 'Jane', 'last_name': 'Doe', 'age': 34}\n"
     ]
    }
   ],
   "source": [
    "# Changing and nadding new items\n",
    "sample_dictionary['first_name'] = 'Jane'\n",
    "print(sample_dictionary)\n",
    "\n"
   ]
  },
  {
   "cell_type": "code",
   "execution_count": 141,
   "metadata": {},
   "outputs": [
    {
     "name": "stdout",
     "output_type": "stream",
     "text": [
      "{'first_name': 'Jane', 'last_name': 'Doe', 'age': 34, 'sex': 'Female'}\n"
     ]
    }
   ],
   "source": [
    "sample_dictionary['sex'] = 'Female'\n",
    "print(sample_dictionary)"
   ]
  }
 ],
 "metadata": {
  "kernelspec": {
   "display_name": "myenv",
   "language": "python",
   "name": "python3"
  },
  "language_info": {
   "codemirror_mode": {
    "name": "ipython",
    "version": 3
   },
   "file_extension": ".py",
   "mimetype": "text/x-python",
   "name": "python",
   "nbconvert_exporter": "python",
   "pygments_lexer": "ipython3",
   "version": "3.12.6"
  }
 },
 "nbformat": 4,
 "nbformat_minor": 2
}
